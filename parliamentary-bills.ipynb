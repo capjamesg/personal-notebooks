{
  "nbformat": 4,
  "nbformat_minor": 0,
  "metadata": {
    "colab": {
      "provenance": []
    },
    "kernelspec": {
      "name": "python3",
      "display_name": "Python 3"
    },
    "language_info": {
      "name": "python"
    }
  },
  "cells": [
    {
      "cell_type": "code",
      "execution_count": null,
      "metadata": {
        "colab": {
          "base_uri": "https://localhost:8080/"
        },
        "id": "fJ_R-GEH9oJS",
        "outputId": "d8e76912-11c2-4f37-c04e-c433597efa56"
      },
      "outputs": [
        {
          "output_type": "stream",
          "name": "stdout",
          "text": [
            "0\n",
            "20\n",
            "40\n",
            "60\n",
            "80\n",
            "100\n",
            "120\n",
            "140\n",
            "160\n",
            "180\n",
            "200\n",
            "220\n",
            "240\n",
            "260\n",
            "280\n",
            "300\n",
            "320\n",
            "340\n",
            "360\n",
            "380\n",
            "400\n",
            "420\n",
            "440\n",
            "460\n",
            "480\n",
            "500\n",
            "520\n",
            "540\n",
            "560\n",
            "580\n",
            "600\n",
            "620\n",
            "640\n",
            "660\n",
            "680\n",
            "700\n",
            "720\n",
            "740\n",
            "760\n",
            "780\n",
            "800\n",
            "820\n",
            "840\n",
            "860\n",
            "880\n",
            "900\n",
            "920\n",
            "940\n",
            "960\n",
            "980\n",
            "1000\n",
            "1020\n",
            "1040\n",
            "1060\n",
            "1080\n",
            "1100\n",
            "1120\n",
            "1140\n",
            "1160\n",
            "1180\n",
            "1200\n",
            "1220\n",
            "1240\n",
            "1260\n",
            "1280\n",
            "1300\n",
            "1320\n",
            "1340\n",
            "1360\n",
            "1380\n",
            "1400\n",
            "1420\n",
            "1440\n",
            "1460\n",
            "1480\n"
          ]
        }
      ],
      "source": [
        "import requests\n",
        "\n",
        "API_URL = \"https://bills-api.parliament.uk/api/v1/Bills\"\n",
        "\n",
        "def get_bills():\n",
        "    bills = []\n",
        "    for i in range(0, 75):\n",
        "        # print(i)\n",
        "        response = requests.get(f\"{API_URL}?skip={i*10}\")\n",
        "        print(len(bills))\n",
        "        if response.status_code != 200:\n",
        "            break\n",
        "            \n",
        "        bills.extend(response.json()[\"items\"])\n",
        "    # print(bills)\n",
        "    # print(len(bills))\n",
        "    return bills\n",
        "\n",
        "bills = get_bills()"
      ]
    },
    {
      "cell_type": "code",
      "source": [
        "!pip install transformers"
      ],
      "metadata": {
        "colab": {
          "base_uri": "https://localhost:8080/"
        },
        "id": "ko7YSd_49zRV",
        "outputId": "509c9a5b-59ac-4356-a10f-249a1633ae6b"
      },
      "execution_count": null,
      "outputs": [
        {
          "output_type": "stream",
          "name": "stdout",
          "text": [
            "Looking in indexes: https://pypi.org/simple, https://us-python.pkg.dev/colab-wheels/public/simple/\n",
            "Collecting transformers\n",
            "  Downloading transformers-4.29.2-py3-none-any.whl (7.1 MB)\n",
            "\u001b[2K     \u001b[90m━━━━━━━━━━━━━━━━━━━━━━━━━━━━━━━━━━━━━━━━\u001b[0m \u001b[32m7.1/7.1 MB\u001b[0m \u001b[31m44.2 MB/s\u001b[0m eta \u001b[36m0:00:00\u001b[0m\n",
            "\u001b[?25hRequirement already satisfied: filelock in /usr/local/lib/python3.10/dist-packages (from transformers) (3.12.0)\n",
            "Collecting huggingface-hub<1.0,>=0.14.1 (from transformers)\n",
            "  Downloading huggingface_hub-0.14.1-py3-none-any.whl (224 kB)\n",
            "\u001b[2K     \u001b[90m━━━━━━━━━━━━━━━━━━━━━━━━━━━━━━━━━━━━━━\u001b[0m \u001b[32m224.5/224.5 kB\u001b[0m \u001b[31m19.8 MB/s\u001b[0m eta \u001b[36m0:00:00\u001b[0m\n",
            "\u001b[?25hRequirement already satisfied: numpy>=1.17 in /usr/local/lib/python3.10/dist-packages (from transformers) (1.22.4)\n",
            "Requirement already satisfied: packaging>=20.0 in /usr/local/lib/python3.10/dist-packages (from transformers) (23.1)\n",
            "Requirement already satisfied: pyyaml>=5.1 in /usr/local/lib/python3.10/dist-packages (from transformers) (6.0)\n",
            "Requirement already satisfied: regex!=2019.12.17 in /usr/local/lib/python3.10/dist-packages (from transformers) (2022.10.31)\n",
            "Requirement already satisfied: requests in /usr/local/lib/python3.10/dist-packages (from transformers) (2.27.1)\n",
            "Collecting tokenizers!=0.11.3,<0.14,>=0.11.1 (from transformers)\n",
            "  Downloading tokenizers-0.13.3-cp310-cp310-manylinux_2_17_x86_64.manylinux2014_x86_64.whl (7.8 MB)\n",
            "\u001b[2K     \u001b[90m━━━━━━━━━━━━━━━━━━━━━━━━━━━━━━━━━━━━━━━━\u001b[0m \u001b[32m7.8/7.8 MB\u001b[0m \u001b[31m59.8 MB/s\u001b[0m eta \u001b[36m0:00:00\u001b[0m\n",
            "\u001b[?25hRequirement already satisfied: tqdm>=4.27 in /usr/local/lib/python3.10/dist-packages (from transformers) (4.65.0)\n",
            "Requirement already satisfied: fsspec in /usr/local/lib/python3.10/dist-packages (from huggingface-hub<1.0,>=0.14.1->transformers) (2023.4.0)\n",
            "Requirement already satisfied: typing-extensions>=3.7.4.3 in /usr/local/lib/python3.10/dist-packages (from huggingface-hub<1.0,>=0.14.1->transformers) (4.5.0)\n",
            "Requirement already satisfied: urllib3<1.27,>=1.21.1 in /usr/local/lib/python3.10/dist-packages (from requests->transformers) (1.26.15)\n",
            "Requirement already satisfied: certifi>=2017.4.17 in /usr/local/lib/python3.10/dist-packages (from requests->transformers) (2022.12.7)\n",
            "Requirement already satisfied: charset-normalizer~=2.0.0 in /usr/local/lib/python3.10/dist-packages (from requests->transformers) (2.0.12)\n",
            "Requirement already satisfied: idna<4,>=2.5 in /usr/local/lib/python3.10/dist-packages (from requests->transformers) (3.4)\n",
            "Installing collected packages: tokenizers, huggingface-hub, transformers\n",
            "Successfully installed huggingface-hub-0.14.1 tokenizers-0.13.3 transformers-4.29.2\n"
          ]
        }
      ]
    },
    {
      "cell_type": "code",
      "source": [
        "import transformers\n",
        "import pandas as pd\n",
        "\n",
        "tokenizer = transformers.AutoTokenizer.from_pretrained(\"bert-base-uncased\")\n",
        "model = transformers.AutoModel.from_pretrained(\"bert-base-uncased\")\n",
        "\n",
        "def get_bert_embeddings(text):\n",
        "    tokens = tokenizer(text, return_tensors=\"pt\", padding=True)\n",
        "    outputs = model(**tokens)\n",
        "    return outputs.pooler_output\n",
        "\n",
        "df = pd.DataFrame(bills)"
      ],
      "metadata": {
        "colab": {
          "base_uri": "https://localhost:8080/"
        },
        "id": "qXDnm_Zb9qCO",
        "outputId": "a0c0a947-36f4-43a2-b02e-b57300400034"
      },
      "execution_count": null,
      "outputs": [
        {
          "output_type": "stream",
          "name": "stderr",
          "text": [
            "Some weights of the model checkpoint at bert-base-uncased were not used when initializing BertModel: ['cls.predictions.transform.LayerNorm.weight', 'cls.predictions.decoder.weight', 'cls.predictions.transform.LayerNorm.bias', 'cls.predictions.transform.dense.weight', 'cls.seq_relationship.bias', 'cls.seq_relationship.weight', 'cls.predictions.bias', 'cls.predictions.transform.dense.bias']\n",
            "- This IS expected if you are initializing BertModel from the checkpoint of a model trained on another task or with another architecture (e.g. initializing a BertForSequenceClassification model from a BertForPreTraining model).\n",
            "- This IS NOT expected if you are initializing BertModel from the checkpoint of a model that you expect to be exactly identical (initializing a BertForSequenceClassification model from a BertForSequenceClassification model).\n"
          ]
        }
      ]
    },
    {
      "cell_type": "code",
      "source": [
        "!pip install sentence-transformers"
      ],
      "metadata": {
        "colab": {
          "base_uri": "https://localhost:8080/"
        },
        "id": "lFI_k8r2EraA",
        "outputId": "3576e6b3-589f-449d-c73a-64636e033b1d"
      },
      "execution_count": null,
      "outputs": [
        {
          "output_type": "stream",
          "name": "stdout",
          "text": [
            "Looking in indexes: https://pypi.org/simple, https://us-python.pkg.dev/colab-wheels/public/simple/\n",
            "Collecting sentence-transformers\n",
            "  Downloading sentence-transformers-2.2.2.tar.gz (85 kB)\n",
            "\u001b[2K     \u001b[90m━━━━━━━━━━━━━━━━━━━━━━━━━━━━━━━━━━━━━━━━\u001b[0m \u001b[32m86.0/86.0 kB\u001b[0m \u001b[31m3.2 MB/s\u001b[0m eta \u001b[36m0:00:00\u001b[0m\n",
            "\u001b[?25h  Preparing metadata (setup.py) ... \u001b[?25l\u001b[?25hdone\n",
            "Requirement already satisfied: transformers<5.0.0,>=4.6.0 in /usr/local/lib/python3.10/dist-packages (from sentence-transformers) (4.29.2)\n",
            "Requirement already satisfied: tqdm in /usr/local/lib/python3.10/dist-packages (from sentence-transformers) (4.65.0)\n",
            "Requirement already satisfied: torch>=1.6.0 in /usr/local/lib/python3.10/dist-packages (from sentence-transformers) (2.0.1+cu118)\n",
            "Requirement already satisfied: torchvision in /usr/local/lib/python3.10/dist-packages (from sentence-transformers) (0.15.2+cu118)\n",
            "Requirement already satisfied: numpy in /usr/local/lib/python3.10/dist-packages (from sentence-transformers) (1.22.4)\n",
            "Requirement already satisfied: scikit-learn in /usr/local/lib/python3.10/dist-packages (from sentence-transformers) (1.2.2)\n",
            "Requirement already satisfied: scipy in /usr/local/lib/python3.10/dist-packages (from sentence-transformers) (1.10.1)\n",
            "Requirement already satisfied: nltk in /usr/local/lib/python3.10/dist-packages (from sentence-transformers) (3.8.1)\n",
            "Collecting sentencepiece (from sentence-transformers)\n",
            "  Downloading sentencepiece-0.1.99-cp310-cp310-manylinux_2_17_x86_64.manylinux2014_x86_64.whl (1.3 MB)\n",
            "\u001b[2K     \u001b[90m━━━━━━━━━━━━━━━━━━━━━━━━━━━━━━━━━━━━━━━━\u001b[0m \u001b[32m1.3/1.3 MB\u001b[0m \u001b[31m20.5 MB/s\u001b[0m eta \u001b[36m0:00:00\u001b[0m\n",
            "\u001b[?25hRequirement already satisfied: huggingface-hub>=0.4.0 in /usr/local/lib/python3.10/dist-packages (from sentence-transformers) (0.14.1)\n",
            "Requirement already satisfied: filelock in /usr/local/lib/python3.10/dist-packages (from huggingface-hub>=0.4.0->sentence-transformers) (3.12.0)\n",
            "Requirement already satisfied: fsspec in /usr/local/lib/python3.10/dist-packages (from huggingface-hub>=0.4.0->sentence-transformers) (2023.4.0)\n",
            "Requirement already satisfied: requests in /usr/local/lib/python3.10/dist-packages (from huggingface-hub>=0.4.0->sentence-transformers) (2.27.1)\n",
            "Requirement already satisfied: pyyaml>=5.1 in /usr/local/lib/python3.10/dist-packages (from huggingface-hub>=0.4.0->sentence-transformers) (6.0)\n",
            "Requirement already satisfied: typing-extensions>=3.7.4.3 in /usr/local/lib/python3.10/dist-packages (from huggingface-hub>=0.4.0->sentence-transformers) (4.5.0)\n",
            "Requirement already satisfied: packaging>=20.9 in /usr/local/lib/python3.10/dist-packages (from huggingface-hub>=0.4.0->sentence-transformers) (23.1)\n",
            "Requirement already satisfied: sympy in /usr/local/lib/python3.10/dist-packages (from torch>=1.6.0->sentence-transformers) (1.11.1)\n",
            "Requirement already satisfied: networkx in /usr/local/lib/python3.10/dist-packages (from torch>=1.6.0->sentence-transformers) (3.1)\n",
            "Requirement already satisfied: jinja2 in /usr/local/lib/python3.10/dist-packages (from torch>=1.6.0->sentence-transformers) (3.1.2)\n",
            "Requirement already satisfied: triton==2.0.0 in /usr/local/lib/python3.10/dist-packages (from torch>=1.6.0->sentence-transformers) (2.0.0)\n",
            "Requirement already satisfied: cmake in /usr/local/lib/python3.10/dist-packages (from triton==2.0.0->torch>=1.6.0->sentence-transformers) (3.25.2)\n",
            "Requirement already satisfied: lit in /usr/local/lib/python3.10/dist-packages (from triton==2.0.0->torch>=1.6.0->sentence-transformers) (16.0.5)\n",
            "Requirement already satisfied: regex!=2019.12.17 in /usr/local/lib/python3.10/dist-packages (from transformers<5.0.0,>=4.6.0->sentence-transformers) (2022.10.31)\n",
            "Requirement already satisfied: tokenizers!=0.11.3,<0.14,>=0.11.1 in /usr/local/lib/python3.10/dist-packages (from transformers<5.0.0,>=4.6.0->sentence-transformers) (0.13.3)\n",
            "Requirement already satisfied: click in /usr/local/lib/python3.10/dist-packages (from nltk->sentence-transformers) (8.1.3)\n",
            "Requirement already satisfied: joblib in /usr/local/lib/python3.10/dist-packages (from nltk->sentence-transformers) (1.2.0)\n",
            "Requirement already satisfied: threadpoolctl>=2.0.0 in /usr/local/lib/python3.10/dist-packages (from scikit-learn->sentence-transformers) (3.1.0)\n",
            "Requirement already satisfied: pillow!=8.3.*,>=5.3.0 in /usr/local/lib/python3.10/dist-packages (from torchvision->sentence-transformers) (8.4.0)\n",
            "Requirement already satisfied: MarkupSafe>=2.0 in /usr/local/lib/python3.10/dist-packages (from jinja2->torch>=1.6.0->sentence-transformers) (2.1.2)\n",
            "Requirement already satisfied: urllib3<1.27,>=1.21.1 in /usr/local/lib/python3.10/dist-packages (from requests->huggingface-hub>=0.4.0->sentence-transformers) (1.26.15)\n",
            "Requirement already satisfied: certifi>=2017.4.17 in /usr/local/lib/python3.10/dist-packages (from requests->huggingface-hub>=0.4.0->sentence-transformers) (2022.12.7)\n",
            "Requirement already satisfied: charset-normalizer~=2.0.0 in /usr/local/lib/python3.10/dist-packages (from requests->huggingface-hub>=0.4.0->sentence-transformers) (2.0.12)\n",
            "Requirement already satisfied: idna<4,>=2.5 in /usr/local/lib/python3.10/dist-packages (from requests->huggingface-hub>=0.4.0->sentence-transformers) (3.4)\n",
            "Requirement already satisfied: mpmath>=0.19 in /usr/local/lib/python3.10/dist-packages (from sympy->torch>=1.6.0->sentence-transformers) (1.3.0)\n",
            "Building wheels for collected packages: sentence-transformers\n",
            "  Building wheel for sentence-transformers (setup.py) ... \u001b[?25l\u001b[?25hdone\n",
            "  Created wheel for sentence-transformers: filename=sentence_transformers-2.2.2-py3-none-any.whl size=125926 sha256=3e62485aa9e7b9bbf1cf21b3d55d8cb747e88069c44ea877263a490d3692454c\n",
            "  Stored in directory: /root/.cache/pip/wheels/62/f2/10/1e606fd5f02395388f74e7462910fe851042f97238cbbd902f\n",
            "Successfully built sentence-transformers\n",
            "Installing collected packages: sentencepiece, sentence-transformers\n",
            "Successfully installed sentence-transformers-2.2.2 sentencepiece-0.1.99\n"
          ]
        }
      ]
    },
    {
      "cell_type": "code",
      "source": [
        "from sentence_transformers import SentenceTransformer\n",
        "\n",
        "model = SentenceTransformer('sentence-transformers/all-MiniLM-L6-v2')\n",
        "\n",
        "df = pd.DataFrame(bills)\n",
        "\n",
        "df = df.drop_duplicates(subset=[\"shortTitle\"])\n",
        "\n",
        "# df = df.head(250)\n",
        "\n",
        "df[\"shortTitleLower\"] = df[\"shortTitle\"].str.lower()\n",
        "df[\"shortTitleLower\"] = df[\"shortTitleLower\"].str.replace(r\"[^a-zA-Z0-9 ]\", \"\")\n",
        "\n",
        "df[\"shortTitleLower\"] = df[\"shortTitleLower\"].apply(lambda x: \" \".join(x for x in x.split() if x not in stop))\n",
        "\n",
        "# calculate embeddings\n",
        "df[\"embedding\"] = df[\"shortTitleLower\"].apply(lambda x: model.encode(x))\n",
        "\n",
        "print(len(df))"
      ],
      "metadata": {
        "colab": {
          "base_uri": "https://localhost:8080/"
        },
        "id": "2sn1y1XP970d",
        "outputId": "ce0fdee1-fc7d-4f8f-c2e7-e17ca2017621"
      },
      "execution_count": null,
      "outputs": [
        {
          "output_type": "stream",
          "name": "stderr",
          "text": [
            "<ipython-input-127-785bed6e3b9c>:12: FutureWarning:\n",
            "\n",
            "The default value of regex will change from True to False in a future version.\n",
            "\n"
          ]
        },
        {
          "output_type": "stream",
          "name": "stdout",
          "text": [
            "609\n"
          ]
        }
      ]
    },
    {
      "cell_type": "code",
      "source": [
        "import nltk\n",
        "\n",
        "nltk.download(\"stopwords\")"
      ],
      "metadata": {
        "colab": {
          "base_uri": "https://localhost:8080/"
        },
        "id": "zqGXbvHo_JxE",
        "outputId": "35704799-ab5b-46b2-a6c3-6d2f0b9123b9"
      },
      "execution_count": null,
      "outputs": [
        {
          "output_type": "stream",
          "name": "stderr",
          "text": [
            "[nltk_data] Downloading package stopwords to /root/nltk_data...\n",
            "[nltk_data]   Unzipping corpora/stopwords.zip.\n"
          ]
        },
        {
          "output_type": "execute_result",
          "data": {
            "text/plain": [
              "True"
            ]
          },
          "metadata": {},
          "execution_count": 13
        }
      ]
    },
    {
      "cell_type": "code",
      "source": [
        "# bar chart of word counts\n",
        "from collections import Counter\n",
        "import plotly.express as px\n",
        "\n",
        "# remove stopwords\n",
        "from nltk.corpus import stopwords\n",
        "\n",
        "stop = stopwords.words(\"english\")\n",
        "\n",
        "all_words = df[\"shortTitleLower\"].str.split(expand=True).stack().value_counts()\n",
        "\n",
        "all_words = all_words.drop(\"bill\")\n",
        "all_words = all_words.drop(\"hl\")\n",
        "all_words = all_words.drop(\"act\")\n",
        "\n",
        "fig = px.bar(all_words[:20])\n",
        "fig.show()"
      ],
      "metadata": {
        "colab": {
          "base_uri": "https://localhost:8080/",
          "height": 542
        },
        "id": "rWKOBwer-f2N",
        "outputId": "2f550fd1-93d6-4011-bc89-fe0570650813"
      },
      "execution_count": null,
      "outputs": [
        {
          "output_type": "display_data",
          "data": {
            "text/html": [
              "<html>\n",
              "<head><meta charset=\"utf-8\" /></head>\n",
              "<body>\n",
              "    <div>            <script src=\"https://cdnjs.cloudflare.com/ajax/libs/mathjax/2.7.5/MathJax.js?config=TeX-AMS-MML_SVG\"></script><script type=\"text/javascript\">if (window.MathJax && window.MathJax.Hub && window.MathJax.Hub.Config) {window.MathJax.Hub.Config({SVG: {font: \"STIX-Web\"}});}</script>                <script type=\"text/javascript\">window.PlotlyConfig = {MathJaxConfig: 'local'};</script>\n",
              "        <script src=\"https://cdn.plot.ly/plotly-2.18.2.min.js\"></script>                <div id=\"59cd9423-a0e9-4454-8827-5ae77ca22078\" class=\"plotly-graph-div\" style=\"height:525px; width:100%;\"></div>            <script type=\"text/javascript\">                                    window.PLOTLYENV=window.PLOTLYENV || {};                                    if (document.getElementById(\"59cd9423-a0e9-4454-8827-5ae77ca22078\")) {                    Plotly.newPlot(                        \"59cd9423-a0e9-4454-8827-5ae77ca22078\",                        [{\"alignmentgroup\":\"True\",\"hovertemplate\":\"variable=0<br>index=%{x}<br>value=%{y}<extra></extra>\",\"legendgroup\":\"0\",\"marker\":{\"color\":\"#636efa\",\"pattern\":{\"shape\":\"\"}},\"name\":\"0\",\"offsetgroup\":\"0\",\"orientation\":\"v\",\"showlegend\":true,\"textposition\":\"auto\",\"x\":[\"amendment\",\"armed\",\"protection\",\"criminal\",\"forces\",\"child\",\"services\",\"access\",\"children\",\"2\",\"2010\",\"rights\",\"regulation\",\"benefit\",\"bbc\",\"2008\",\"consumer\",\"british\",\"air\",\"tax\"],\"xaxis\":\"x\",\"y\":[31,23,22,21,21,19,19,18,17,17,16,15,14,14,13,13,12,11,11,11],\"yaxis\":\"y\",\"type\":\"bar\"}],                        {\"template\":{\"data\":{\"histogram2dcontour\":[{\"type\":\"histogram2dcontour\",\"colorbar\":{\"outlinewidth\":0,\"ticks\":\"\"},\"colorscale\":[[0.0,\"#0d0887\"],[0.1111111111111111,\"#46039f\"],[0.2222222222222222,\"#7201a8\"],[0.3333333333333333,\"#9c179e\"],[0.4444444444444444,\"#bd3786\"],[0.5555555555555556,\"#d8576b\"],[0.6666666666666666,\"#ed7953\"],[0.7777777777777778,\"#fb9f3a\"],[0.8888888888888888,\"#fdca26\"],[1.0,\"#f0f921\"]]}],\"choropleth\":[{\"type\":\"choropleth\",\"colorbar\":{\"outlinewidth\":0,\"ticks\":\"\"}}],\"histogram2d\":[{\"type\":\"histogram2d\",\"colorbar\":{\"outlinewidth\":0,\"ticks\":\"\"},\"colorscale\":[[0.0,\"#0d0887\"],[0.1111111111111111,\"#46039f\"],[0.2222222222222222,\"#7201a8\"],[0.3333333333333333,\"#9c179e\"],[0.4444444444444444,\"#bd3786\"],[0.5555555555555556,\"#d8576b\"],[0.6666666666666666,\"#ed7953\"],[0.7777777777777778,\"#fb9f3a\"],[0.8888888888888888,\"#fdca26\"],[1.0,\"#f0f921\"]]}],\"heatmap\":[{\"type\":\"heatmap\",\"colorbar\":{\"outlinewidth\":0,\"ticks\":\"\"},\"colorscale\":[[0.0,\"#0d0887\"],[0.1111111111111111,\"#46039f\"],[0.2222222222222222,\"#7201a8\"],[0.3333333333333333,\"#9c179e\"],[0.4444444444444444,\"#bd3786\"],[0.5555555555555556,\"#d8576b\"],[0.6666666666666666,\"#ed7953\"],[0.7777777777777778,\"#fb9f3a\"],[0.8888888888888888,\"#fdca26\"],[1.0,\"#f0f921\"]]}],\"heatmapgl\":[{\"type\":\"heatmapgl\",\"colorbar\":{\"outlinewidth\":0,\"ticks\":\"\"},\"colorscale\":[[0.0,\"#0d0887\"],[0.1111111111111111,\"#46039f\"],[0.2222222222222222,\"#7201a8\"],[0.3333333333333333,\"#9c179e\"],[0.4444444444444444,\"#bd3786\"],[0.5555555555555556,\"#d8576b\"],[0.6666666666666666,\"#ed7953\"],[0.7777777777777778,\"#fb9f3a\"],[0.8888888888888888,\"#fdca26\"],[1.0,\"#f0f921\"]]}],\"contourcarpet\":[{\"type\":\"contourcarpet\",\"colorbar\":{\"outlinewidth\":0,\"ticks\":\"\"}}],\"contour\":[{\"type\":\"contour\",\"colorbar\":{\"outlinewidth\":0,\"ticks\":\"\"},\"colorscale\":[[0.0,\"#0d0887\"],[0.1111111111111111,\"#46039f\"],[0.2222222222222222,\"#7201a8\"],[0.3333333333333333,\"#9c179e\"],[0.4444444444444444,\"#bd3786\"],[0.5555555555555556,\"#d8576b\"],[0.6666666666666666,\"#ed7953\"],[0.7777777777777778,\"#fb9f3a\"],[0.8888888888888888,\"#fdca26\"],[1.0,\"#f0f921\"]]}],\"surface\":[{\"type\":\"surface\",\"colorbar\":{\"outlinewidth\":0,\"ticks\":\"\"},\"colorscale\":[[0.0,\"#0d0887\"],[0.1111111111111111,\"#46039f\"],[0.2222222222222222,\"#7201a8\"],[0.3333333333333333,\"#9c179e\"],[0.4444444444444444,\"#bd3786\"],[0.5555555555555556,\"#d8576b\"],[0.6666666666666666,\"#ed7953\"],[0.7777777777777778,\"#fb9f3a\"],[0.8888888888888888,\"#fdca26\"],[1.0,\"#f0f921\"]]}],\"mesh3d\":[{\"type\":\"mesh3d\",\"colorbar\":{\"outlinewidth\":0,\"ticks\":\"\"}}],\"scatter\":[{\"fillpattern\":{\"fillmode\":\"overlay\",\"size\":10,\"solidity\":0.2},\"type\":\"scatter\"}],\"parcoords\":[{\"type\":\"parcoords\",\"line\":{\"colorbar\":{\"outlinewidth\":0,\"ticks\":\"\"}}}],\"scatterpolargl\":[{\"type\":\"scatterpolargl\",\"marker\":{\"colorbar\":{\"outlinewidth\":0,\"ticks\":\"\"}}}],\"bar\":[{\"error_x\":{\"color\":\"#2a3f5f\"},\"error_y\":{\"color\":\"#2a3f5f\"},\"marker\":{\"line\":{\"color\":\"#E5ECF6\",\"width\":0.5},\"pattern\":{\"fillmode\":\"overlay\",\"size\":10,\"solidity\":0.2}},\"type\":\"bar\"}],\"scattergeo\":[{\"type\":\"scattergeo\",\"marker\":{\"colorbar\":{\"outlinewidth\":0,\"ticks\":\"\"}}}],\"scatterpolar\":[{\"type\":\"scatterpolar\",\"marker\":{\"colorbar\":{\"outlinewidth\":0,\"ticks\":\"\"}}}],\"histogram\":[{\"marker\":{\"pattern\":{\"fillmode\":\"overlay\",\"size\":10,\"solidity\":0.2}},\"type\":\"histogram\"}],\"scattergl\":[{\"type\":\"scattergl\",\"marker\":{\"colorbar\":{\"outlinewidth\":0,\"ticks\":\"\"}}}],\"scatter3d\":[{\"type\":\"scatter3d\",\"line\":{\"colorbar\":{\"outlinewidth\":0,\"ticks\":\"\"}},\"marker\":{\"colorbar\":{\"outlinewidth\":0,\"ticks\":\"\"}}}],\"scattermapbox\":[{\"type\":\"scattermapbox\",\"marker\":{\"colorbar\":{\"outlinewidth\":0,\"ticks\":\"\"}}}],\"scatterternary\":[{\"type\":\"scatterternary\",\"marker\":{\"colorbar\":{\"outlinewidth\":0,\"ticks\":\"\"}}}],\"scattercarpet\":[{\"type\":\"scattercarpet\",\"marker\":{\"colorbar\":{\"outlinewidth\":0,\"ticks\":\"\"}}}],\"carpet\":[{\"aaxis\":{\"endlinecolor\":\"#2a3f5f\",\"gridcolor\":\"white\",\"linecolor\":\"white\",\"minorgridcolor\":\"white\",\"startlinecolor\":\"#2a3f5f\"},\"baxis\":{\"endlinecolor\":\"#2a3f5f\",\"gridcolor\":\"white\",\"linecolor\":\"white\",\"minorgridcolor\":\"white\",\"startlinecolor\":\"#2a3f5f\"},\"type\":\"carpet\"}],\"table\":[{\"cells\":{\"fill\":{\"color\":\"#EBF0F8\"},\"line\":{\"color\":\"white\"}},\"header\":{\"fill\":{\"color\":\"#C8D4E3\"},\"line\":{\"color\":\"white\"}},\"type\":\"table\"}],\"barpolar\":[{\"marker\":{\"line\":{\"color\":\"#E5ECF6\",\"width\":0.5},\"pattern\":{\"fillmode\":\"overlay\",\"size\":10,\"solidity\":0.2}},\"type\":\"barpolar\"}],\"pie\":[{\"automargin\":true,\"type\":\"pie\"}]},\"layout\":{\"autotypenumbers\":\"strict\",\"colorway\":[\"#636efa\",\"#EF553B\",\"#00cc96\",\"#ab63fa\",\"#FFA15A\",\"#19d3f3\",\"#FF6692\",\"#B6E880\",\"#FF97FF\",\"#FECB52\"],\"font\":{\"color\":\"#2a3f5f\"},\"hovermode\":\"closest\",\"hoverlabel\":{\"align\":\"left\"},\"paper_bgcolor\":\"white\",\"plot_bgcolor\":\"#E5ECF6\",\"polar\":{\"bgcolor\":\"#E5ECF6\",\"angularaxis\":{\"gridcolor\":\"white\",\"linecolor\":\"white\",\"ticks\":\"\"},\"radialaxis\":{\"gridcolor\":\"white\",\"linecolor\":\"white\",\"ticks\":\"\"}},\"ternary\":{\"bgcolor\":\"#E5ECF6\",\"aaxis\":{\"gridcolor\":\"white\",\"linecolor\":\"white\",\"ticks\":\"\"},\"baxis\":{\"gridcolor\":\"white\",\"linecolor\":\"white\",\"ticks\":\"\"},\"caxis\":{\"gridcolor\":\"white\",\"linecolor\":\"white\",\"ticks\":\"\"}},\"coloraxis\":{\"colorbar\":{\"outlinewidth\":0,\"ticks\":\"\"}},\"colorscale\":{\"sequential\":[[0.0,\"#0d0887\"],[0.1111111111111111,\"#46039f\"],[0.2222222222222222,\"#7201a8\"],[0.3333333333333333,\"#9c179e\"],[0.4444444444444444,\"#bd3786\"],[0.5555555555555556,\"#d8576b\"],[0.6666666666666666,\"#ed7953\"],[0.7777777777777778,\"#fb9f3a\"],[0.8888888888888888,\"#fdca26\"],[1.0,\"#f0f921\"]],\"sequentialminus\":[[0.0,\"#0d0887\"],[0.1111111111111111,\"#46039f\"],[0.2222222222222222,\"#7201a8\"],[0.3333333333333333,\"#9c179e\"],[0.4444444444444444,\"#bd3786\"],[0.5555555555555556,\"#d8576b\"],[0.6666666666666666,\"#ed7953\"],[0.7777777777777778,\"#fb9f3a\"],[0.8888888888888888,\"#fdca26\"],[1.0,\"#f0f921\"]],\"diverging\":[[0,\"#8e0152\"],[0.1,\"#c51b7d\"],[0.2,\"#de77ae\"],[0.3,\"#f1b6da\"],[0.4,\"#fde0ef\"],[0.5,\"#f7f7f7\"],[0.6,\"#e6f5d0\"],[0.7,\"#b8e186\"],[0.8,\"#7fbc41\"],[0.9,\"#4d9221\"],[1,\"#276419\"]]},\"xaxis\":{\"gridcolor\":\"white\",\"linecolor\":\"white\",\"ticks\":\"\",\"title\":{\"standoff\":15},\"zerolinecolor\":\"white\",\"automargin\":true,\"zerolinewidth\":2},\"yaxis\":{\"gridcolor\":\"white\",\"linecolor\":\"white\",\"ticks\":\"\",\"title\":{\"standoff\":15},\"zerolinecolor\":\"white\",\"automargin\":true,\"zerolinewidth\":2},\"scene\":{\"xaxis\":{\"backgroundcolor\":\"#E5ECF6\",\"gridcolor\":\"white\",\"linecolor\":\"white\",\"showbackground\":true,\"ticks\":\"\",\"zerolinecolor\":\"white\",\"gridwidth\":2},\"yaxis\":{\"backgroundcolor\":\"#E5ECF6\",\"gridcolor\":\"white\",\"linecolor\":\"white\",\"showbackground\":true,\"ticks\":\"\",\"zerolinecolor\":\"white\",\"gridwidth\":2},\"zaxis\":{\"backgroundcolor\":\"#E5ECF6\",\"gridcolor\":\"white\",\"linecolor\":\"white\",\"showbackground\":true,\"ticks\":\"\",\"zerolinecolor\":\"white\",\"gridwidth\":2}},\"shapedefaults\":{\"line\":{\"color\":\"#2a3f5f\"}},\"annotationdefaults\":{\"arrowcolor\":\"#2a3f5f\",\"arrowhead\":0,\"arrowwidth\":1},\"geo\":{\"bgcolor\":\"white\",\"landcolor\":\"#E5ECF6\",\"subunitcolor\":\"white\",\"showland\":true,\"showlakes\":true,\"lakecolor\":\"white\"},\"title\":{\"x\":0.05},\"mapbox\":{\"style\":\"light\"}}},\"xaxis\":{\"anchor\":\"y\",\"domain\":[0.0,1.0],\"title\":{\"text\":\"index\"}},\"yaxis\":{\"anchor\":\"x\",\"domain\":[0.0,1.0],\"title\":{\"text\":\"value\"}},\"legend\":{\"title\":{\"text\":\"variable\"},\"tracegroupgap\":0},\"margin\":{\"t\":60},\"barmode\":\"relative\"},                        {\"responsive\": true}                    ).then(function(){\n",
              "                            \n",
              "var gd = document.getElementById('59cd9423-a0e9-4454-8827-5ae77ca22078');\n",
              "var x = new MutationObserver(function (mutations, observer) {{\n",
              "        var display = window.getComputedStyle(gd).display;\n",
              "        if (!display || display === 'none') {{\n",
              "            console.log([gd, 'removed!']);\n",
              "            Plotly.purge(gd);\n",
              "            observer.disconnect();\n",
              "        }}\n",
              "}});\n",
              "\n",
              "// Listen for the removal of the full notebook cells\n",
              "var notebookContainer = gd.closest('#notebook-container');\n",
              "if (notebookContainer) {{\n",
              "    x.observe(notebookContainer, {childList: true});\n",
              "}}\n",
              "\n",
              "// Listen for the clearing of the current output cell\n",
              "var outputEl = gd.closest('.output');\n",
              "if (outputEl) {{\n",
              "    x.observe(outputEl, {childList: true});\n",
              "}}\n",
              "\n",
              "                        })                };                            </script>        </div>\n",
              "</body>\n",
              "</html>"
            ]
          },
          "metadata": {}
        }
      ]
    },
    {
      "cell_type": "code",
      "source": [
        "from sklearn.manifold import TSNE\n",
        "import numpy as np\n",
        "\n",
        "tsne = TSNE(n_components=2)\n",
        "\n",
        "print(len(df))\n",
        "\n",
        "df1 = df[df[\"currentHouse\"] == \"Commons\"]\n",
        "\n",
        "print(len(df1))\n",
        "\n",
        "X = np.array(df1[\"embedding\"].tolist()).squeeze()\n",
        "\n",
        "tsne_results = tsne.fit_transform(X)\n",
        "\n",
        "df1[\"tsne-2d-one\"] = tsne_results[:, 0]\n",
        "df1[\"tsne-2d-two\"] = tsne_results[:, 1]\n",
        "df1[\"currentStageDescription\"] = df1[\"currentStage\"].apply(lambda x: x[\"description\"])\n",
        "# undefeated bills that are not drafts\n",
        "df1 = df1[df1[\"isDefeated\"] == False]\n",
        "df1 = df1[df1[\"billTypeId\"] != 9]\n",
        "\n",
        "# df1[\"color\"] = \"red\"\n",
        "# df1.loc[df1[\"isAct\"] == True, \"color\"] = \"blue\"\n",
        "\n",
        "fig = px.scatter(\n",
        "    df1,\n",
        "    x=\"tsne-2d-one\",\n",
        "    y=\"tsne-2d-two\",\n",
        "    size_max=18,\n",
        "    title=\"t-SNE applied to BERT embeddings of Bill titles\",\n",
        "    hover_data=[\"shortTitle\"],\n",
        "    color=\"currentStageDescription\"\n",
        ")\n",
        "fig.show()"
      ],
      "metadata": {
        "colab": {
          "base_uri": "https://localhost:8080/",
          "height": 1000
        },
        "id": "kaFlcYh_-A5w",
        "outputId": "0139fa4a-0718-42df-fb9f-86688d72405a"
      },
      "execution_count": null,
      "outputs": [
        {
          "output_type": "stream",
          "name": "stdout",
          "text": [
            "609\n",
            "391\n"
          ]
        },
        {
          "output_type": "stream",
          "name": "stderr",
          "text": [
            "<ipython-input-148-d391c1e87042>:16: SettingWithCopyWarning:\n",
            "\n",
            "\n",
            "A value is trying to be set on a copy of a slice from a DataFrame.\n",
            "Try using .loc[row_indexer,col_indexer] = value instead\n",
            "\n",
            "See the caveats in the documentation: https://pandas.pydata.org/pandas-docs/stable/user_guide/indexing.html#returning-a-view-versus-a-copy\n",
            "\n",
            "<ipython-input-148-d391c1e87042>:17: SettingWithCopyWarning:\n",
            "\n",
            "\n",
            "A value is trying to be set on a copy of a slice from a DataFrame.\n",
            "Try using .loc[row_indexer,col_indexer] = value instead\n",
            "\n",
            "See the caveats in the documentation: https://pandas.pydata.org/pandas-docs/stable/user_guide/indexing.html#returning-a-view-versus-a-copy\n",
            "\n",
            "<ipython-input-148-d391c1e87042>:18: SettingWithCopyWarning:\n",
            "\n",
            "\n",
            "A value is trying to be set on a copy of a slice from a DataFrame.\n",
            "Try using .loc[row_indexer,col_indexer] = value instead\n",
            "\n",
            "See the caveats in the documentation: https://pandas.pydata.org/pandas-docs/stable/user_guide/indexing.html#returning-a-view-versus-a-copy\n",
            "\n"
          ]
        },
        {
          "output_type": "display_data",
          "data": {
            "text/html": [
              "<html>\n",
              "<head><meta charset=\"utf-8\" /></head>\n",
              "<body>\n",
              "    <div>            <script src=\"https://cdnjs.cloudflare.com/ajax/libs/mathjax/2.7.5/MathJax.js?config=TeX-AMS-MML_SVG\"></script><script type=\"text/javascript\">if (window.MathJax && window.MathJax.Hub && window.MathJax.Hub.Config) {window.MathJax.Hub.Config({SVG: {font: \"STIX-Web\"}});}</script>                <script type=\"text/javascript\">window.PlotlyConfig = {MathJaxConfig: 'local'};</script>\n",
              "        <script src=\"https://cdn.plot.ly/plotly-2.18.2.min.js\"></script>                <div id=\"770ff371-021a-4b96-8d49-9dc19ed4badf\" class=\"plotly-graph-div\" style=\"height:525px; width:100%;\"></div>            <script type=\"text/javascript\">                                    window.PLOTLYENV=window.PLOTLYENV || {};                                    if (document.getElementById(\"770ff371-021a-4b96-8d49-9dc19ed4badf\")) {                    Plotly.newPlot(                        \"770ff371-021a-4b96-8d49-9dc19ed4badf\",                        [{\"customdata\":[[\"Abolition of Business Rates Bill\"],[\"Abortion Bill\"],[\"Abortion (Cleft Lip, Cleft Palate and Clubfoot) Bill\"],[\"Abortion (Sex-Selection) Bill\"],[\"Abortion Statistics Bill\"],[\"Abuse of Public-facing Workers (Offences) Bill\"],[\"Access to Banking Services Bill\"],[\"Access To Contraceptive Services Bill\"],[\"Access to Elected Office Fund (Report) Bill\"],[\"Access to Fertility Services Bill\"],[\"Access To Inland Waterways Bill\"],[\"Access to Mental Health Services Bill\"],[\"Access to Pension Protection Fund Benefits Bill\"],[\"Access to Radiotherapy Bill\"],[\"Access to Welfare (Terminal Illness Definition) Bill\"],[\"Accessible Sports Grounds Bill [HL]\"],[\"Acquired Brain Injury Bill\"],[\"Activity Centres (Young Persons' Safety) (Amendment) Bill\"],[\"Additional Charges for Utility Bills Not Paid by Direct Debit (Limits) Bill\"],[\"Adoption (Leave, Pay and Allowance Arrangements) Bill\"],[\"Adults with Autism Bill\"],[\"Adventure and Gap Year Activity Companies (Accreditation and Inspection) Bill\"],[\"Affordable Home Ownership Bill\"],[\"Affordable Housing (Conversion of Commercial Property) Bill\"],[\"Affordable Housing Contributions (Ten Unit Threshold) Bill\"],[\"Age-Related Macular Degeneration Bill\"],[\"Agricultural Accidents (Records) Bill\"],[\"Air Pollution (Local Authority Audits) Bill\"],[\"Air Quality Bill\"],[\"Air Quality (Diesel Emissions in Urban Centres) Bill\"],[\"Airport Expansion (Parliamentary Approval) Bill\"],[\"Airport Security (People with Disabilities) Bill\"],[\"Alcohol (Harm Reduction) Bill\"],[\"Alcohol (Minimum Pricing) (England) Bill\"],[\"Alcohol Labelling (Pregnancy): Bill\"],[\"Alcohol Marketing Bill\"],[\"Alcohol Sales (Regulation of Prices and Promotion) Bill\"],[\"Allotments (Planning) Bill\"],[\"Ambulance Response Times (Local Reporting) Bill\"],[\"Ambulance Waiting Times (Local Reporting) Bill\"],[\"Amenity Land (Adoption by Local Authorities) Bill\"],[\"Ancient Woodland Inventory (England) Bill\"],[\"Animal Cruelty (Sentencing) Bill\"],[\"Animal Fighting (Sentencing) Bill\"],[\"Animal Welfare (Electronic Collars) Bill\"],[\"Animals (Recognition of Sentience) Bill\"],[\"Animals Act (Amendment) Bill\"],[\"Animals Act 1971 (Amendment) Bill\"],[\"Anonymity (Arrested Persons) Bill\"],[\"Anonymity of Suspects Bill\"],[\"Anti-Loitering Devices (Regulation) Bill\"],[\"Anxiety (Environmental Concerns) Bill\"],[\"Anxiety in Schools (Environmental Concerns) Bill\"],[\"Apologies Bill\"],[\"Apprehension of Burglars Bill\"],[\"Apprenticeships (Child Benefit and Tax Credit Entitlement) (Research) Bill\"],[\"Apprenticeships and Skills (Public Procurement Contracts) Bill\"],[\"Armed Forces (Derogation from European Convention on Human Rights) Bill\"],[\"Armed Forces (Federation) Bill\"],[\"Armed Forces (Germany) Bill\"],[\"Armed Forces (Leave) Bill\"],[\"Armed Forces (Prevention of Discrimination) Bill\"],[\"Armed Forces (Prevention of Discrimination) (No. 2) Bill\"],[\"Armed Forces (Statute of Limitations) Bill\"],[\"Armed Forces (Volunteer Reserve) Bill\"],[\"Armed Forces Charter Bill\"],[\"Armed Forces Covenant (Duty of Public Authorities) Bill\"],[\"Armed Forces Covenant (Implementation) (United Kingdom) Bill\"],[\"Armed Forces Representative Body Bill\"],[\"Armenian Genocide (Recognition) Bill\"],[\"Armenian Genocide Remembrance Day Bill\"],[\"Arms (Exports and Remote Warfare) Bill\"],[\"Arms Export Controls (Countries of Concern) Bill\"],[\"Artificial Intelligence (Regulation and Workers' Rights) Bill\"],[\"Assaults on Retail Workers (Offences) Bill\"],[\"Assessment of Government Policies (Impact on Families) Bill\"],[\"Asset Freezing (Compensation) Bill [HL]\"],[\"Assets of Community Value Bill\"],[\"Assisted Dying (No. 2) Bill\"],[\"Asylum (Time Limit) Bill\"],[\"Asylum (Unaccompanied Children Displaced by Conflict) Bill\"],[\"Asylum Seekers (Accommodation Eviction Procedures) Bill\"],[\"Asylum Seekers (Permission to Work) Bill\"],[\"Asylum Seekers (Permission to Work) (No. 2) Bill\"],[\"Asylum Seekers (Return to Nearest Safe Country) Bill\"],[\"Asylum Seekers (Return to Safe Countries) Bill\"],[\"Autism (Quality Standards) Bill\"],[\"Automated External Defibrillators (Public Access) Bill\"],[\"Automatic Electoral Registration Bill\"],[\"Automatic Electoral Registration (No. 2) Bill\"],[\"Automatic Travel Compensation Bill\"],[\"Autumn Bank Holiday Bill\"],[\"Aviation Banning Orders (Disruptive Passengers) Bill\"],[\"Bail (Amendment) Bill\"],[\"Bailiffs (Repeals and Amendment) Bill\"],[\"Bank Holiday (Contribution of Polish Citizens) Bill\"],[\"Bank of England (Appointment of Governor) Bill\"],[\"Bankers' Pensions (Limits) Bill\"],[\"Banking (Cash Machine Charges and Financial Inclusion) Bill\"],[\"Banking (Consumer and Small Business Protection) Bill\"],[\"Banking (Disclosure, Responsibility and Education) Bill\"],[\"Banking and Financial Services (Community Investment) Bill\"],[\"Banking and Post Office Services (Rural Areas and Small Communities) Bill\"],[\"Banking Services (Post Offices) Bill\"],[\"Banknote Diversity Bill\"],[\"Barnett Formula (Replacement) Bill\"],[\"Basement Excavation (Restriction of Permitted Development) Bill\"],[\"Bat Habitats Regulation Bill\"],[\"Bat Habitats Regulation (No. 2) Bill\"],[\"Bat Habitats Regulation (No.2) Bill\"],[\"Bathing Waters Bill\"],[\"BBC (Audit Arrangements and Publication of Invoices) Bill\"],[\"BBC (Transparency) Bill\"],[\"BBC Licence Fee (Abolition) Bill\"],[\"BBC Licence Fee (Civil Debt) Bill\"],[\"BBC Licence Fee (Civil Penalty) Bill\"],[\"BBC Licence Fee Non-Payment (Decriminalisation for Over-75s) Bill\"],[\"BBC Licence Fee Payers (Voting Rights) Bill\"],[\"BBC Privatisation Bill\"],[\"Benefit Cap (Report on Abolition) Bill\"],[\"Benefit Claimants (Automatic Transfer to Alternative Benefits) Bill\"],[\"Benefit Claimants Sanctions (Required Assessment) Bill\"],[\"Benefit Entitlement (Restriction) Bill\"],[\"Benefit Sanctions (Warnings) Bill\"],[\"Benefit Sanctions Regime (Entitlement to Automatic Hardship Payments) Bill\"],[\"Benefits and Public Services (Restriction) Bill\"],[\"Bereavement (Leave and Pay) Bill\"],[\"Bereavement Leave and Pay (Stillborn and Miscarried Babies) Bill\"],[\"Betting Shops Bill\"],[\"Bicycles (Children's Safety Helmets) Bill\"],[\"Bilingual Juries (Wales) Bill\"],[\"Bill of Rights Bill\"],[\"Birmingham Commonwealth Games Bill [HL]\"],[\"Bishops (Consecration of Women) Bill\"],[\"Blood Donation (Equality) Bill\"],[\"Blood Donor (Equality) Bill\"],[\"Blood, Organ and Bone Marrow Donation (Education) Bill\"],[\"Border Control Bill\"],[\"Borough Freedom Bill\"],[\"Bowel Conditions (Assessment) Bill\"],[\"Breast Cancer Screening (Women Under 40) Bill\"],[\"Breast Screening Bill\"],[\"British Bill of Rights and Withdrawal from the European Convention on Human Rights Bill\"],[\"British Board of Film Classification (Accountability to Parliament and Appeals) Bill\"],[\"British Broadcasting Corporation (Oversight) Bill\"],[\"British Broadcasting Corporation (Privatisation) Bill\"],[\"British Goods (Public Sector Purchasing Duty) Bill\"],[\"British Indian Ocean Territory (Citizenship) Bill\"],[\"British Museum Act 1963 (Amendment) Bill\"],[\"British Overseas Territories and Crown Dependencies Bill\"],[\"British Victims of Terrorism (Asset-Freezing and Compensation) Bill\"],[\"Broadcasting (Listed Sporting Events) Bill\"],[\"Broadcasting (Public Service Content) Bill\"],[\"Broadcasting (Television Licence Fee Abolition) Bill\"],[\"Brown Hare (Protection) Bill\"],[\"Building Regulations (External Retaining and Load-Bearing Walls) Bill\"],[\"Building Regulations (Review) Bill [HL]\"],[\"Burglary (Police Response) Bill\"],[\"Burial Rights Reform Bill\"],[\"Bus Drivers (Working Hours on Local Routes) Bill\"],[\"Bus Services Bill\"],[\"Bus Services (Consultation) Bill\"],[\"Buses (Audio Announcements) Bill\"],[\"Business of the House Commission Bill\"],[\"Business Standards Bill\"],[\"Button Batteries (Safety) Bill\"],[\"Cannabis (Legalisation and Regulation) Bill\"],[\"Cannabis Seeds (Prohibition) Bill\"],[\"Capital Punishment Bill\"],[\"Caravan Site Licensing (Exemptions of Motor Homes) Bill\"],[\"Caravan Sites Bill\"],[\"Carbon Monoxide (Detection and Safety) Bill\"],[\"Carbon Monoxide Poisoning (Safety Abroad) Bill\"],[\"Care Homes (Domestic Pets) Bill\"],[\"Care Homes and Sheltered Accommodation (Domestic Pets) Bill\"],[\"Careers Advice in Schools for 12-16 Year Olds Bill\"],[\"Careers Guidance (Access to Schools) Bill\"],[\"Carers (Identification and Support) Bill\"],[\"Carers (Identification Support) Bill\"],[\"Carers and Care Workers Bill\"],[\"Carers and Employment Bill\"],[\"Carers Bedroom Entitlement (Social Housing Sector) Bill\"],[\"Cash Machines Bill\"],[\"Catholics (Prevention of Discrimination) Bill\"],[\"Cats Bill\"],[\"Causing Death by Driving Whilst Disqualified Bill\"],[\"Ceramics (Country of Origin Marking) Bill\"],[\"Cervical Cancer (Minimum Age for Screening) Bill\"],[\"Chalk Streams (Protection) Bill\"],[\"Channel 4 (Privatisation) Bill\"],[\"Channel 4 (Relocation) Bill\"],[\"Charitable Healthcare Providers (Value Added Tax Relief) Bill\"],[\"Charitable Status for Religious Institutions Bill\"],[\"Charities (Income Source Statements) Bill\"],[\"Charities Act 2011 (Amendment) Bill\"],[\"Charity Trustees (Time Off for Duties) Bill\"],[\"Cheapest Energy Tariff (Information) Bill\"],[\"Cheques Bill\"],[\"Child Benefit (Amendment) Bill\"],[\"Child Benefit Entitlement (Disqualification of Non-UK EU Nationals) Bill\"],[\"Child Criminal Exploitation Bill\"],[\"Child Cruelty (Sentences) Bill\"],[\"Child Maintenance Bill\"],[\"Child Maintenance (Assessment of Parents' Income) Bill\"],[\"Child Maintenance (Assessment of Parents\\u2019 Income) Bill\"],[\"Child Maltreatment Bill\"],[\"Child Poverty in the UK (Target for Reduction) Bill\"],[\"Child Safety (Cycle Helmets) Bill\"],[\"Child Victims of Human Trafficking (Central Government Responsibility) Bill\"],[\"Childcare Bill\"],[\"Childcare Provision (Wales) Bill\"],[\"Children (Access to Parents) Bill\"],[\"Children (Access to Treatment) Bill\"],[\"Children (Performances) Regulations 1968 (Amendment) Bill\"],[\"Children (Protection of Privacy) Bill\"],[\"Children in Care (Custody) Bill\"],[\"Children not in school (register) Bill\"],[\"Children of Armed Services Personnel (Schools Admission) Bill\"],[\"Children\\u2019s Clothing (Value Added Tax) Bill\"],[\"Children's Clothing (Value Added Tax) Bill\"],[\"Christmas Savings Schemes (Regulation) Bill\"],[\"Cigarette Stick Health Warnings Bill [HL]\"],[\"Citizens' Convention Bill\"],[\"Citizens' Convention (Accountability and Ethics) Bill\"],[\"Citizens' Initiative (Legislation) Bill\"],[\"City of Bradford (Referendum on Shipley and Keighley) Bill\"],[\"City of London (Markets) Bill\"],[\"Civil Aviation (Accessibility) Bill\"],[\"Civil Enforcement Officers and Traffic Wardens (Integration of Duties and Powers) (England) Bill\"],[\"Civil Partnership Act 2004 (Amendment) Bill\"],[\"Cladding Remediation Works (Code of Practice) Bill\"],[\"Clean Air Bill\"],[\"Clean Air (No. 2) Bill\"],[\"Clean Air (No. 3) Bill\"],[\"Clean Air Targets (World Health Organization Guidelines) Bill\"],[\"Climate and Ecology Bill\"],[\"Climate Change Bill\"],[\"Climate Change (Effects) Bill\"],[\"Climate Change (Emissions Targets) Bill\"],[\"Climate Change (Net Zero UK Carbon Account) Bill\"],[\"Climate Change (Sectoral Targets) Bill\"],[\"Climate Education Bill\"],[\"Closed Circuit Television (Monitoring and Promotion) Bill\"],[\"Cluster Munitions (Prohibition of Development and Aquisition) Bill\"],[\"Cluster Munitions (Prohibition) Bill [HL]\"],[\"Coal Extraction and Use Bill\"],[\"Coastal Path (Definition) Bill\"],[\"Cohabitation (No. 2) Bill\"],[\"Cold Climate Allowance Bill\"],[\"Cold Weather Payments Bill\"],[\"Collection of Nationality Data Bill\"],[\"Collective Defined Contribution Pension Schemes Bill\"],[\"Commercial Lobbyists (Registration and Code of Conduct) Bill\"],[\"Commercial Rent (Prohibition of Upward-Only Reviews) Bill\"],[\"Commission for the Compact Bill\"],[\"Committee on the Grant of Honours, Decorations and Medals Bill\"],[\"Common Fisheries Policy (Withdrawal) Bill\"],[\"Common Land and Repeal of Inclosure Acts Bill\"],[\"Commonwealth Parliamentary Association (Status) Bill\"],[\"Commonwealth Parliamentary Association (Status) (No. 2) Bill\"],[\"Communication Support (Deafness) Bill\"],[\"Communications (Unsolicited Telephone Calls and Texts) Bill\"],[\"Community Hospitals Bill\"],[\"Community Wealth Fund Bill\"],[\"Companies Documentation (Transgender Persons) Bill\"],[\"Companies\\u2019 Remuneration Reports Bill [HL]\"],[\"Company Transparency (Carbon in Supply Chains) Bill\"],[\"Compensation (Limitation) Bill\"],[\"Compensation Act 2006 (Amendment) Bill\"],[\"Compensation Orders (Child Sexual Abuse) Bill\"],[\"Compulsory Emergency First Aid Education (State-funded Secondary Schools) Bill\"],[\"Compulsory Purchase and Planning Bill\"],[\"Concessionary Bus Travel (Amendment) Bill\"],[\"Confiscation Orders (Sentencing and Offence) Bill\"],[\"Consolidation of Housing Regulations Bill\"],[\"Constitutional Convention (No. 2) Bill\"],[\"Constitutional Reform Bill\"],[\"Construction (Retention Deposit Schemes) Bill\"],[\"Construction Industry (Protection of Cash Retentions) Bill\"],[\"Consumer Credit (Regulation and Advice) Bill\"],[\"Consumer Pricing Bill\"],[\"Consumer Protection (Distance Selling Delivery Charges) Bill\"],[\"Consumer Protection (Double Charging) Bill\"],[\"Consumer Protection (Postal Marketing) Bill\"],[\"Consumer Protection (Private Car Parks) Bill\"],[\"Consumer Protection (Standards of Fire Resistance of Children's Fancy Dress and Play Costumes Etc) Bill\"],[\"Contaminated Blood (Support for Infected and Bereaved Persons) Bill [HL]\"],[\"Contaminated Blood (Support for Infected and Bereaved Persons) Bill\"],[\"Control of Dogs Bill\"],[\"Control of Offshore Wind Turbines Bill\"],[\"Control of Roadworks Bill\"],[\"Conversion Therapy (Prohibition) Bill\"],[\"Convicted Prisoners Voting Bill\"],[\"Co-operative and Community Benefit Societies (Environmentally Sustainable Investment) Bill\"],[\"Co-operative and Social Enterprise (Development) Bill\"],[\"Co-Operative Housing Tenure Bill\"],[\"Co-operative Schools Bill\"],[\"Co-operatives (Employee Company Ownership) Bill\"],[\"Co-operatives (Permanent Shares) Bill\"],[\"Copyright (Miscellaneous Provisions) Bill\"],[\"Copyright (Rights and Remuneration of Musicians, Etc.) Bill\"],[\"Copyright in Sound Recordings and Performers' Rights (Term Extension) Bill\"],[\"Copyright Term for Performers and Producers Bill\"],[\"Coronavirus (No. 2) Bill\"],[\"Coronavirus Inquiry Bill\"],[\"Coroners and Justice (Amendment) Bill\"],[\"Coroners and Justice Act 2009 (Duty to Investigate) (Amendment) Bill\"],[\"Corporate Accountability and Safeguarding of Adults from Abuse and Neglect Bill\"],[\"Corporate Homicide Bill\"],[\"Corporate Tax Reductions Bill\"],[\"Corruption Bill [HL]\"],[\"Cosmetic Surgery (Minimum Standards) Bill\"],[\"Cosmetic Surgery (Standards of Practice) Bill\"],[\"Council Housing (Direct Investment) Bill\"],[\"Council Housing (Local Financing Pathfinders) Bill\"],[\"Council Tax Benefit (Change of Name) Bill\"],[\"Council Tax Rebate Bill\"],[\"Counsellors and Psychotherapists (Regulation) Bill\"],[\"Counsellors and Psychotherapists (Regulation) and Conversion Therapy Bill\"],[\"Counter-Terrorism and Security Act 2015 (Amendment) Bill\"],[\"Countryside and Rights of Way Act 2000 (Amendment) Bill\"],[\"Courts (Abuse of Process) Bill\"],[\"Covid-19 Financial Assistance (Gaps in Support) Bill\"],[\"Covid-19 Vaccine Damage Bill\"],[\"Covid-19 Vaccine Damage Payments Bill\"],[\"Covid-19 Vaccine Diagnosis and Treatment Bill\"],[\"Credit Card Debt Limit Bill\"],[\"Credit Regulation (Child Pornography) Bill\"],[\"Credit Union (Armed Forces) Bill\"],[\"Creditworthiness Assessment Bill [HL]\"],[\"Crime (Aggravated Murder of and Violence Against Women) Bill\"],[\"Crime (Assaults on Emergency Services Staff) Bill\"],[\"Crime (Impact Statements) Bill\"],[\"Criminal Appeal (Amendment) Bill\"],[\"Criminal Cases Review Commission (Supplementary Powers) Bill\"],[\"Criminal Damage Graffiti Bill\"],[\"Criminal Driving (Justice for Victims) Bill\"],[\"Criminal Fraud (Private Prosecutions) Bill\"],[\"Criminal Injuries Compensation Scheme (Review) Bill\"],[\"Criminal Justice (Amendment) Bill\"],[\"Criminal Justice (Raves) Bill\"],[\"Criminal Law (Amendment) (Protection of Property) Bill\"],[\"Criminal Offences (Misuse of Digital Technologies and Services) (Consolidation) Bill\"],[\"Criminal Records (Childhood Offences) Bill\"],[\"Criminal Records (Public Access) Bill\"],[\"Crown Estate (Devolution to Wales) Bill\"],[\"Crown Tenancies Bill\"],[\"Currency and Banknotes (Amendment) Bill\"],[\"Cycles (Protective Headgear for Children) Bill\"],[\"Cystic Fibrosis (Exemption from Prescription Charges) Bill\"],[\"Dairy Farming Bill\"],[\"Dance Teachers (Qualifications and Regulation) Bill\"],[\"Dangerous and Reckless Cycling (Offences) Bill\"],[\"Dangerous Dogs (Amendment) Bill\"],[\"Dangerous Driving (Maximum Sentence) Bill\"],[\"Dartmoor National Park (Access) Bill\"],[\"Decarbonisation Bill\"],[\"Decarbonisation and Economic Strategy Bill\"],[\"Decarbonisation of Road Transport (Audit) Bill\"],[\"Defamation, Privacy, Freedom of Expression, Data Protection, Legal Services and Private Investigators Bill\"],[\"Defence Expenditure (NATO Target) Bill\"],[\"Defibrillators (Availability) Bill\"],[\"Delivery Surcharges (Transparency for Consumers) Bill\"],[\"Dementia Strategy Bill\"],[\"Demonstrations (Abortion Clinics) Bill\"],[\"Department for Business, Innovation and Skills (Relocation to Sheffield) Bill\"],[\"Department for Communities and Local Government (Relocation to Liverpool) Bill\"],[\"Department for Culture, Media and Sport (Relocation to Manchester) Bill\"],[\"Department for Education (Relocation to Nottingham) Bill\"],[\"Department for Environment, Food and Rural Affairs (Relocation to Bristol) Bill\"],[\"Department for International Development (Relocation to Newcastle) Bill\"],[\"Department for International Trade (Abolition) Bill\"],[\"Department for Transport (Relocation to Birmingham) Bill\"],[\"Department for Work and Pensions (Electronic File retention) Bill\"]],\"hovertemplate\":\"currentStageDescription=2nd reading<br>tsne-2d-one=%{x}<br>tsne-2d-two=%{y}<br>shortTitle=%{customdata[0]}<extra></extra>\",\"legendgroup\":\"2nd reading\",\"marker\":{\"color\":\"#636efa\",\"symbol\":\"circle\"},\"mode\":\"markers\",\"name\":\"2nd reading\",\"orientation\":\"v\",\"showlegend\":true,\"x\":[4.421751022338867,20.14228057861328,21.57928466796875,20.59599494934082,19.432058334350586,20.561767578125,-2.362070322036743,-4.0808424949646,-13.173066139221191,-4.272883892059326,2.5604753494262695,-15.803430557250977,-11.48896312713623,-17.908517837524414,-15.470772743225098,-3.5150697231292725,13.805931091308594,-19.7292537689209,9.193233489990234,-13.344768524169922,12.576814651489258,-19.951852798461914,1.532272458076477,2.6227848529815674,1.629758596420288,14.972099304199219,7.469577789306641,4.944023132324219,5.913691997528076,5.186887741088867,-15.20773696899414,-15.360733985900879,10.14731216430664,8.26601505279541,10.22748851776123,9.425387382507324,8.78286075592041,2.188072681427002,-10.077183723449707,-10.071221351623535,3.863597869873047,-0.5363000631332397,18.11753273010254,18.746509552001953,17.19615936279297,15.941502571105957,14.98199462890625,14.808544158935547,23.085817337036133,22.936323165893555,12.291160583496094,1.1198447942733765,1.0209293365478516,15.499917984008789,18.227991104125977,-13.92591667175293,-14.63710880279541,-26.951168060302734,-24.298538208007812,-23.978811264038086,-25.629573822021484,-21.788637161254883,-21.828414916992188,-26.155014038085938,-22.714000701904297,-24.644893646240234,-24.3778076171875,-24.86089515686035,-22.635377883911133,-12.756324768066406,-12.765311241149902,-23.92379379272461,-24.048187255859375,9.144342422485352,20.045276641845703,-11.619400978088379,-7.52556848526001,-5.253716468811035,18.455808639526367,-22.753381729125977,-25.070417404174805,-24.405948638916016,-24.041276931762695,-23.92684555053711,-26.22327423095703,-26.174720764160156,12.330957412719727,14.999061584472656,-10.861891746520996,-10.849163055419922,-11.505866050720215,-8.324301719665527,4.722566604614258,11.76324462890625,11.185785293579102,-8.291027069091797,-4.050239086151123,-10.318990707397461,-0.6597764492034912,-1.611060619354248,-2.545283317565918,-3.764387369155884,-3.404510736465454,-3.045945882797241,-5.641022682189941,-17.535123825073242,-6.186034679412842,11.56972885131836,12.034503936767578,12.094082832336426,3.955416440963745,-0.8699058294296265,-1.6974090337753296,0.3804042637348175,1.5140267610549927,1.5275050401687622,1.5548946857452393,0.39550456404685974,-2.7664246559143066,-11.332139015197754,-12.923863410949707,-13.863391876220703,-12.443856239318848,-14.320910453796387,-14.202849388122559,-12.053478240966797,-14.180855751037598,-14.028400421142578,1.0621423721313477,-6.805153846740723,-2.430126190185547,7.9022345542907715,-3.0685057640075684,23.889202117919922,-17.108232498168945,-17.0417423248291,-17.454906463623047,9.644287109375,7.824788570404053,-13.585476875305176,-5.341495037078857,-4.923910617828369,-27.37514305114746,1.254822015762329,-2.1231753826141357,-2.9861185550689697,-2.094108819961548,-4.98023796081543,2.6076648235321045,-4.209239959716797,-8.60984992980957,-3.6065499782562256,-3.1681480407714844,-1.353695273399353,11.204916954040527,-6.54478645324707,-4.245047092437744,17.74101448059082,5.558835029602051,-12.791125297546387,-14.100975036621094,-14.168468475341797,-14.98555850982666,3.0668954849243164,7.2187676429748535,12.224287986755371,11.213717460632324,11.489337921142578,13.797894477844238,0.27340054512023926,0.28113049268722534,9.15172004699707,9.234025955200195,19.153076171875,19.441469192504883,-22.694305419921875,-22.32478141784668,20.04579734802246,20.04579734802246,18.11507225036621,18.349803924560547,19.0156192779541,-0.2538546025753021,-20.99038314819336,16.704853057861328,15.640713691711426,28.301162719726562,-5.940331935882568,7.681985855102539,-5.054750919342041,-5.996494293212891,-16.8978328704834,-18.447938919067383,-16.770092010498047,-17.888582229614258,-18.6260986328125,5.807277202606201,0.855943500995636,-11.107932090759277,-12.388886451721191,18.39573860168457,18.43829917907715,-9.217589378356934,-10.418848991394043,-10.417617797851562,19.181184768676758,-11.913057327270508,-6.998316287994385,16.995471954345703,-8.602829933166504,-10.404376983642578,-8.629778861999512,-9.265110969543457,-21.235374450683594,-7.629147052764893,-8.912471771240234,-6.964766979217529,-19.68924331665039,-9.609172821044922,-9.608175277709961,-8.548797607421875,9.390891075134277,5.745032787322998,6.618574142456055,5.555660724639893,25.471078872680664,0.9849023222923279,-15.155863761901855,-1.2606043815612793,4.882625579833984,-5.379248142242432,6.421947002410889,6.325268745422363,6.864459037780762,7.491249084472656,0.01193996425718069,0.4972940981388092,0.6565174460411072,2.230462074279785,0.9948986172676086,1.7938984632492065,-0.7878444790840149,-2.2224202156066895,-29.058053970336914,-29.093170166015625,7.142186164855957,2.1439833641052246,-2.275099039077759,-1.3482340574264526,-1.8259828090667725,27.564544677734375,-11.493331909179688,6.809021472930908,4.228517055511475,3.4532878398895264,-17.389347076416016,1.4237751960754395,4.844604015350342,-7.25072717666626,-7.210923194885254,12.370928764343262,9.582261085510254,15.403514862060547,-4.901798725128174,21.693096160888672,-5.41596794128418,5.201921463012695,-9.593727111816406,-9.379794120788574,20.359363555908203,-17.78643035888672,2.4168143272399902,-14.841902732849121,19.071123123168945,0.18370454013347626,5.46047306060791,5.821174621582031,-7.605607986450195,-7.3802642822265625,-0.8443341851234436,6.6034770011901855,7.5818657875061035,8.17833137512207,6.798389434814453,9.788053512573242,-8.615758895874023,-13.678238868713379,-13.681715965270996,18.249801635742188,-1.0291523933410645,-0.2364673614501953,-18.82412338256836,13.096649169921875,-3.3366026878356934,-3.5624001026153564,-0.438990980386734,-5.445191383361816,-2.0874998569488525,-2.520993947982788,6.644835948944092,6.306407928466797,6.550478935241699,7.3863725662231445,-6.795888423919678,-7.0590057373046875,11.365007400512695,11.192602157592773,22.091758728027344,15.112723350524902,2.5294923782348633,-4.040349960327148,14.53490161895752,14.564580917358398,1.293327808380127,1.6286342144012451,0.7782268524169922,1.1896238327026367,-17.329675674438477,-17.915176391601562,13.346598625183105,8.305280685424805,21.890705108642578,-9.193357467651367,-8.970708847045898,-9.114961624145508,-9.352492332458496,-0.24677324295043945,18.08710289001465,-23.480756759643555,-5.100498676300049,15.636096000671387,19.132699966430664,17.000072479248047,13.653422355651855,15.748732566833496,17.28644561767578,15.907469749450684,19.562061309814453,14.497323036193848,14.108135223388672,15.882525444030762,13.573238372802734,21.39641571044922,18.881187438964844,19.232975006103516,-2.978721857070923,-3.4962406158447266,-5.76810884475708,-7.467619895935059,-3.614788293838501,6.582314491271973,-21.929298400878906,17.62546730041504,15.491082191467285,16.798585891723633,10.822248458862305,-1.9780521392822266,-2.147908926010132,-1.1748549938201904,23.742530822753906,-22.310033798217773,14.983168601989746,7.048782825469971,16.262731552124023,19.62274169921875,-11.459199905395508,-9.842256546020508,-8.039800643920898,-10.349719047546387,-12.204032897949219,-10.586337089538574,3.628192186355591,-11.334925651550293,-10.006414413452148],\"xaxis\":\"x\",\"y\":[9.952730178833008,14.12022876739502,15.00816535949707,13.841652870178223,14.058844566345215,-16.60424041748047,-8.8491792678833,11.230677604675293,-8.022709846496582,11.039617538452148,15.146768569946289,-5.279897689819336,-5.542166709899902,-3.516721725463867,-4.004140377044678,-3.214118719100952,10.442390441894531,-11.019484519958496,9.739850044250488,12.144969940185547,7.870878219604492,-1.2493783235549927,7.328587055206299,6.184333801269531,5.53908634185791,11.386454582214355,-0.5054771900177002,23.98576545715332,24.04195785522461,22.487855911254883,-13.621809959411621,-11.906017303466797,13.450739860534668,14.266837120056152,15.129377365112305,13.816041946411133,13.488639831542969,0.31316930055618286,-19.777305603027344,-19.78192710876465,2.5823261737823486,-16.971115112304688,-2.7894039154052734,-2.2508223056793213,0.32542967796325684,-0.33046406507492065,-2.420665979385376,-2.2258620262145996,-14.334695816040039,-14.359700202941895,-7.211428642272949,25.164884567260742,25.22056007385254,5.106969356536865,-13.5579252243042,8.005565643310547,8.104185104370117,6.796879768371582,11.06656265258789,12.323553085327148,12.15968132019043,7.560712814331055,7.611368656158447,10.569437026977539,10.23908519744873,10.292786598205566,9.070157051086426,8.28283405303955,11.656501770019531,19.1234073638916,19.1127986907959,16.05621910095215,16.353450775146484,-8.759113311767578,-16.377416610717773,9.67919921875,0.43337178230285645,-7.2343034744262695,11.792252540588379,-5.349246501922607,-3.26572585105896,-5.892110824584961,-4.660693168640137,-4.793503284454346,-5.302675724029541,-5.124325752258301,7.834908962249756,19.374860763549805,-13.681199073791504,-13.690546035766602,-2.276970386505127,-9.49765682220459,-15.15357780456543,-12.36718463897705,-12.340234756469727,-10.477993965148926,-14.868762969970703,-6.940614223480225,-10.441888809204102,-8.116586685180664,-6.848639965057373,-8.321718215942383,-10.197205543518066,-10.529190063476562,-10.471424102783203,18.376739501953125,-2.729264974594116,0.7978060245513916,0.8108243942260742,1.4634414911270142,15.240991592407227,-22.180402755737305,-22.82577896118164,-25.45677947998047,-24.435443878173828,-25.087465286254883,-26.285737991333008,-24.4323673248291,-23.376554489135742,1.8638333082199097,-1.627292275428772,1.2247366905212402,0.5799345374107361,0.6316643953323364,-0.25625646114349365,0.5236150026321411,13.88306999206543,13.718663215637207,-13.815349578857422,13.575624465942383,-14.717732429504395,-9.151397705078125,-3.9264025688171387,12.73015022277832,20.409849166870117,20.32525062561035,21.571699142456055,-5.246230125427246,-10.508739471435547,3.1172001361846924,28.789552688598633,28.825992584228516,6.199289798736572,-21.080076217651367,-24.544456481933594,-24.46442222595215,-18.75714111328125,-18.669979095458984,-18.649837493896484,-18.204450607299805,0.7047238349914551,-27.906034469604492,-26.98249626159668,-26.61148452758789,-2.082071304321289,-4.082382678985596,-1.8301177024841309,-14.085902214050293,-10.64417552947998,-17.791988372802734,-17.841999053955078,-17.90793228149414,-19.045516967773438,-5.982426166534424,4.520020008087158,19.619630813598633,-5.091250896453857,-4.889217376708984,-18.409181594848633,10.705695152282715,10.77077579498291,21.14900779724121,21.166473388671875,2.5639684200286865,2.646574020385742,2.2841758728027344,1.9807512760162354,8.008387565612793,8.008387565612793,7.236382961273193,7.742142200469971,5.999736309051514,-10.851387023925781,6.4405012130737305,4.090288162231445,-20.868892669677734,-5.878425598144531,28.047075271606445,-16.61486053466797,-24.720754623413086,-24.996549606323242,4.490689754486084,4.506477355957031,3.7419705390930176,5.010887622833252,3.0847411155700684,11.742478370666504,-11.669293403625488,5.403481960296631,6.019381999969482,-9.185975074768066,-4.239750385284424,10.286237716674805,10.563809394836426,10.56119441986084,-8.2166748046875,7.071953296661377,13.210683822631836,-8.295063972473145,8.436951637268066,7.952064514160156,6.813595771789551,5.683592796325684,-11.463415145874023,6.048176288604736,7.9573540687561035,7.811446189880371,9.64799690246582,14.894257545471191,14.894103050231934,-8.834243774414062,23.71084213256836,-7.316653728485107,-7.269060134887695,-6.154428958892822,-0.7030497193336487,-14.674126625061035,-11.791653633117676,-18.98539161682129,-4.146785259246826,2.772380828857422,25.17579460144043,26.048521041870117,26.0125732421875,24.37952423095703,18.614761352539062,19.41989517211914,20.036212921142578,20.04030418395996,21.604522705078125,19.351991653442383,19.22331428527832,-27.973142623901367,15.319704055786133,15.342227935791016,18.580522537231445,14.770193099975586,8.454330444335938,21.375492095947266,21.677478790283203,-6.83927583694458,-5.972240447998047,-5.3341450691223145,5.470902442932129,-6.672585487365723,0.3711759150028229,16.64558219909668,-2.4306044578552246,-14.910305976867676,-14.895140647888184,5.561460018157959,5.327606201171875,7.373127460479736,-7.564956188201904,8.154378890991211,-0.08815360069274902,18.872339248657227,-1.450307846069336,-1.223998785018921,-7.448807716369629,10.518745422363281,0.3548487722873688,-16.839160919189453,-18.62047004699707,4.627505302429199,-8.39431095123291,-9.194209098815918,-4.990560054779053,-4.896493434906006,-6.54039192199707,10.147167205810547,8.261584281921387,9.957146644592285,8.252799034118652,1.4742997884750366,15.851068496704102,23.352174758911133,23.333423614501953,1.2744910717010498,14.092259407043457,0.02779363840818405,-6.648609161376953,-18.9810791015625,5.241764545440674,6.10768985748291,5.673431396484375,7.459209442138672,6.599973678588867,6.44909143447876,-20.221235275268555,-21.50125503540039,-22.93325424194336,-22.628684997558594,21.8709774017334,21.865196228027344,-15.517085075378418,-15.54265308380127,-6.481154441833496,-17.823001861572266,-3.1748201847076416,-0.41303858160972595,14.648002624511719,14.512102127075195,3.2830111980438232,3.290365695953369,-2.6601710319519043,-2.7207281589508057,-6.806379795074463,-6.808235168457031,-9.762014389038086,-3.1297061443328857,-8.931386947631836,21.654808044433594,23.621639251708984,23.19898796081543,24.287513732910156,-5.4804840087890625,-6.948817729949951,10.846450805664062,-0.5270426273345947,-16.68861961364746,-15.852601051330566,-15.5857515335083,-12.522409439086914,-11.78061580657959,-16.76791000366211,-15.098655700683594,-12.745256423950195,-14.951042175292969,-12.303771018981934,-13.562037467956543,-11.171212196350098,-11.872817993164062,-10.39279556274414,-11.745529174804688,-15.760711669921875,-16.13523292541504,-10.931447982788086,12.27535343170166,28.751571655273438,0.7683988213539124,-11.564715385437012,-20.675386428833008,-3.542937994003296,-20.13665771484375,-0.8029873967170715,1.9554966688156128,2.2315049171447754,0.9771714210510254,-12.584895133972168,14.762575149536133,19.305620193481445,9.337939262390137,9.454907417297363,15.216043472290039,-26.323402404785156,-26.248281478881836,-26.647472381591797,-25.578514099121094,-24.545886993408203,-26.93027114868164,10.481097221374512,-25.054956436157227,-5.055578708648682],\"yaxis\":\"y\",\"type\":\"scatter\"},{\"customdata\":[[\"Affordable Homes Bill\"],[\"Data Protection and Digital Information (No. 2) Bill\"]],\"hovertemplate\":\"currentStageDescription=Committee stage<br>tsne-2d-one=%{x}<br>tsne-2d-two=%{y}<br>shortTitle=%{customdata[0]}<extra></extra>\",\"legendgroup\":\"Committee stage\",\"marker\":{\"color\":\"#EF553B\",\"symbol\":\"circle\"},\"mode\":\"markers\",\"name\":\"Committee stage\",\"orientation\":\"v\",\"showlegend\":true,\"x\":[1.93397855758667,25.807878494262695],\"xaxis\":\"x\",\"y\":[7.053452491760254,-11.085884094238281],\"yaxis\":\"y\",\"type\":\"scatter\"},{\"customdata\":[[\"Agriculture Bill\"],[\"Animal Welfare (Kept Animals) Bill\"],[\"Animal Welfare (Sentencing) Bill\"],[\"Awards for Valour (Protection) Bill\"],[\"Courts and Tribunals (Online Procedure) Bill [HL]\"],[\"Crown Employment (Nationality) Bill\"],[\"Daylight Saving Bill\"]],\"hovertemplate\":\"currentStageDescription=Report stage<br>tsne-2d-one=%{x}<br>tsne-2d-two=%{y}<br>shortTitle=%{customdata[0]}<extra></extra>\",\"legendgroup\":\"Report stage\",\"marker\":{\"color\":\"#00cc96\",\"symbol\":\"circle\"},\"mode\":\"markers\",\"name\":\"Report stage\",\"orientation\":\"v\",\"showlegend\":true,\"x\":[6.790794849395752,17.574800491333008,17.96996307373047,-16.557510375976562,22.43642234802246,-4.433254718780518,-2.6602590084075928],\"xaxis\":\"x\",\"y\":[0.3533678650856018,-0.44717341661453247,-1.775890827178955,0.36738672852516174,-9.089188575744629,-17.01121711730957,17.47549057006836],\"yaxis\":\"y\",\"type\":\"scatter\"},{\"customdata\":[[\"Buckinghamshire County Council (Filming on Highways) Bill [HL]\"]],\"hovertemplate\":\"currentStageDescription=3rd reading<br>tsne-2d-one=%{x}<br>tsne-2d-two=%{y}<br>shortTitle=%{customdata[0]}<extra></extra>\",\"legendgroup\":\"3rd reading\",\"marker\":{\"color\":\"#ab63fa\",\"symbol\":\"circle\"},\"mode\":\"markers\",\"name\":\"3rd reading\",\"orientation\":\"v\",\"showlegend\":true,\"x\":[-1.77070152759552],\"xaxis\":\"x\",\"y\":[-1.5420080423355103],\"yaxis\":\"y\",\"type\":\"scatter\"},{\"customdata\":[[\"Carbon Emissions (Buildings) Bill\"],[\"Care Bill\"],[\"Consumer Telephone Service Standards Bill\"],[\"Conveyancing Standards Bill\"],[\"Copyright and Performers' Rights (Extended Collective Licensing) Bill\"],[\"Data Protection and Digital Information Bill\"],[\"Death by Dangerous Driving (Sentencing) Bill\"]],\"hovertemplate\":\"currentStageDescription=1st reading<br>tsne-2d-one=%{x}<br>tsne-2d-two=%{y}<br>shortTitle=%{customdata[0]}<extra></extra>\",\"legendgroup\":\"1st reading\",\"marker\":{\"color\":\"#FFA15A\",\"symbol\":\"circle\"},\"mode\":\"markers\",\"name\":\"1st reading\",\"orientation\":\"v\",\"showlegend\":true,\"x\":[4.289491653442383,16.590837478637695,8.486942291259766,6.82025146484375,6.713688850402832,25.762680053710938,16.016088485717773],\"xaxis\":\"x\",\"y\":[20.555877685546875,7.022304058074951,5.297580718994141,4.3248291015625,-21.981243133544922,-11.100131034851074,-19.993593215942383],\"yaxis\":\"y\",\"type\":\"scatter\"}],                        {\"template\":{\"data\":{\"histogram2dcontour\":[{\"type\":\"histogram2dcontour\",\"colorbar\":{\"outlinewidth\":0,\"ticks\":\"\"},\"colorscale\":[[0.0,\"#0d0887\"],[0.1111111111111111,\"#46039f\"],[0.2222222222222222,\"#7201a8\"],[0.3333333333333333,\"#9c179e\"],[0.4444444444444444,\"#bd3786\"],[0.5555555555555556,\"#d8576b\"],[0.6666666666666666,\"#ed7953\"],[0.7777777777777778,\"#fb9f3a\"],[0.8888888888888888,\"#fdca26\"],[1.0,\"#f0f921\"]]}],\"choropleth\":[{\"type\":\"choropleth\",\"colorbar\":{\"outlinewidth\":0,\"ticks\":\"\"}}],\"histogram2d\":[{\"type\":\"histogram2d\",\"colorbar\":{\"outlinewidth\":0,\"ticks\":\"\"},\"colorscale\":[[0.0,\"#0d0887\"],[0.1111111111111111,\"#46039f\"],[0.2222222222222222,\"#7201a8\"],[0.3333333333333333,\"#9c179e\"],[0.4444444444444444,\"#bd3786\"],[0.5555555555555556,\"#d8576b\"],[0.6666666666666666,\"#ed7953\"],[0.7777777777777778,\"#fb9f3a\"],[0.8888888888888888,\"#fdca26\"],[1.0,\"#f0f921\"]]}],\"heatmap\":[{\"type\":\"heatmap\",\"colorbar\":{\"outlinewidth\":0,\"ticks\":\"\"},\"colorscale\":[[0.0,\"#0d0887\"],[0.1111111111111111,\"#46039f\"],[0.2222222222222222,\"#7201a8\"],[0.3333333333333333,\"#9c179e\"],[0.4444444444444444,\"#bd3786\"],[0.5555555555555556,\"#d8576b\"],[0.6666666666666666,\"#ed7953\"],[0.7777777777777778,\"#fb9f3a\"],[0.8888888888888888,\"#fdca26\"],[1.0,\"#f0f921\"]]}],\"heatmapgl\":[{\"type\":\"heatmapgl\",\"colorbar\":{\"outlinewidth\":0,\"ticks\":\"\"},\"colorscale\":[[0.0,\"#0d0887\"],[0.1111111111111111,\"#46039f\"],[0.2222222222222222,\"#7201a8\"],[0.3333333333333333,\"#9c179e\"],[0.4444444444444444,\"#bd3786\"],[0.5555555555555556,\"#d8576b\"],[0.6666666666666666,\"#ed7953\"],[0.7777777777777778,\"#fb9f3a\"],[0.8888888888888888,\"#fdca26\"],[1.0,\"#f0f921\"]]}],\"contourcarpet\":[{\"type\":\"contourcarpet\",\"colorbar\":{\"outlinewidth\":0,\"ticks\":\"\"}}],\"contour\":[{\"type\":\"contour\",\"colorbar\":{\"outlinewidth\":0,\"ticks\":\"\"},\"colorscale\":[[0.0,\"#0d0887\"],[0.1111111111111111,\"#46039f\"],[0.2222222222222222,\"#7201a8\"],[0.3333333333333333,\"#9c179e\"],[0.4444444444444444,\"#bd3786\"],[0.5555555555555556,\"#d8576b\"],[0.6666666666666666,\"#ed7953\"],[0.7777777777777778,\"#fb9f3a\"],[0.8888888888888888,\"#fdca26\"],[1.0,\"#f0f921\"]]}],\"surface\":[{\"type\":\"surface\",\"colorbar\":{\"outlinewidth\":0,\"ticks\":\"\"},\"colorscale\":[[0.0,\"#0d0887\"],[0.1111111111111111,\"#46039f\"],[0.2222222222222222,\"#7201a8\"],[0.3333333333333333,\"#9c179e\"],[0.4444444444444444,\"#bd3786\"],[0.5555555555555556,\"#d8576b\"],[0.6666666666666666,\"#ed7953\"],[0.7777777777777778,\"#fb9f3a\"],[0.8888888888888888,\"#fdca26\"],[1.0,\"#f0f921\"]]}],\"mesh3d\":[{\"type\":\"mesh3d\",\"colorbar\":{\"outlinewidth\":0,\"ticks\":\"\"}}],\"scatter\":[{\"fillpattern\":{\"fillmode\":\"overlay\",\"size\":10,\"solidity\":0.2},\"type\":\"scatter\"}],\"parcoords\":[{\"type\":\"parcoords\",\"line\":{\"colorbar\":{\"outlinewidth\":0,\"ticks\":\"\"}}}],\"scatterpolargl\":[{\"type\":\"scatterpolargl\",\"marker\":{\"colorbar\":{\"outlinewidth\":0,\"ticks\":\"\"}}}],\"bar\":[{\"error_x\":{\"color\":\"#2a3f5f\"},\"error_y\":{\"color\":\"#2a3f5f\"},\"marker\":{\"line\":{\"color\":\"#E5ECF6\",\"width\":0.5},\"pattern\":{\"fillmode\":\"overlay\",\"size\":10,\"solidity\":0.2}},\"type\":\"bar\"}],\"scattergeo\":[{\"type\":\"scattergeo\",\"marker\":{\"colorbar\":{\"outlinewidth\":0,\"ticks\":\"\"}}}],\"scatterpolar\":[{\"type\":\"scatterpolar\",\"marker\":{\"colorbar\":{\"outlinewidth\":0,\"ticks\":\"\"}}}],\"histogram\":[{\"marker\":{\"pattern\":{\"fillmode\":\"overlay\",\"size\":10,\"solidity\":0.2}},\"type\":\"histogram\"}],\"scattergl\":[{\"type\":\"scattergl\",\"marker\":{\"colorbar\":{\"outlinewidth\":0,\"ticks\":\"\"}}}],\"scatter3d\":[{\"type\":\"scatter3d\",\"line\":{\"colorbar\":{\"outlinewidth\":0,\"ticks\":\"\"}},\"marker\":{\"colorbar\":{\"outlinewidth\":0,\"ticks\":\"\"}}}],\"scattermapbox\":[{\"type\":\"scattermapbox\",\"marker\":{\"colorbar\":{\"outlinewidth\":0,\"ticks\":\"\"}}}],\"scatterternary\":[{\"type\":\"scatterternary\",\"marker\":{\"colorbar\":{\"outlinewidth\":0,\"ticks\":\"\"}}}],\"scattercarpet\":[{\"type\":\"scattercarpet\",\"marker\":{\"colorbar\":{\"outlinewidth\":0,\"ticks\":\"\"}}}],\"carpet\":[{\"aaxis\":{\"endlinecolor\":\"#2a3f5f\",\"gridcolor\":\"white\",\"linecolor\":\"white\",\"minorgridcolor\":\"white\",\"startlinecolor\":\"#2a3f5f\"},\"baxis\":{\"endlinecolor\":\"#2a3f5f\",\"gridcolor\":\"white\",\"linecolor\":\"white\",\"minorgridcolor\":\"white\",\"startlinecolor\":\"#2a3f5f\"},\"type\":\"carpet\"}],\"table\":[{\"cells\":{\"fill\":{\"color\":\"#EBF0F8\"},\"line\":{\"color\":\"white\"}},\"header\":{\"fill\":{\"color\":\"#C8D4E3\"},\"line\":{\"color\":\"white\"}},\"type\":\"table\"}],\"barpolar\":[{\"marker\":{\"line\":{\"color\":\"#E5ECF6\",\"width\":0.5},\"pattern\":{\"fillmode\":\"overlay\",\"size\":10,\"solidity\":0.2}},\"type\":\"barpolar\"}],\"pie\":[{\"automargin\":true,\"type\":\"pie\"}]},\"layout\":{\"autotypenumbers\":\"strict\",\"colorway\":[\"#636efa\",\"#EF553B\",\"#00cc96\",\"#ab63fa\",\"#FFA15A\",\"#19d3f3\",\"#FF6692\",\"#B6E880\",\"#FF97FF\",\"#FECB52\"],\"font\":{\"color\":\"#2a3f5f\"},\"hovermode\":\"closest\",\"hoverlabel\":{\"align\":\"left\"},\"paper_bgcolor\":\"white\",\"plot_bgcolor\":\"#E5ECF6\",\"polar\":{\"bgcolor\":\"#E5ECF6\",\"angularaxis\":{\"gridcolor\":\"white\",\"linecolor\":\"white\",\"ticks\":\"\"},\"radialaxis\":{\"gridcolor\":\"white\",\"linecolor\":\"white\",\"ticks\":\"\"}},\"ternary\":{\"bgcolor\":\"#E5ECF6\",\"aaxis\":{\"gridcolor\":\"white\",\"linecolor\":\"white\",\"ticks\":\"\"},\"baxis\":{\"gridcolor\":\"white\",\"linecolor\":\"white\",\"ticks\":\"\"},\"caxis\":{\"gridcolor\":\"white\",\"linecolor\":\"white\",\"ticks\":\"\"}},\"coloraxis\":{\"colorbar\":{\"outlinewidth\":0,\"ticks\":\"\"}},\"colorscale\":{\"sequential\":[[0.0,\"#0d0887\"],[0.1111111111111111,\"#46039f\"],[0.2222222222222222,\"#7201a8\"],[0.3333333333333333,\"#9c179e\"],[0.4444444444444444,\"#bd3786\"],[0.5555555555555556,\"#d8576b\"],[0.6666666666666666,\"#ed7953\"],[0.7777777777777778,\"#fb9f3a\"],[0.8888888888888888,\"#fdca26\"],[1.0,\"#f0f921\"]],\"sequentialminus\":[[0.0,\"#0d0887\"],[0.1111111111111111,\"#46039f\"],[0.2222222222222222,\"#7201a8\"],[0.3333333333333333,\"#9c179e\"],[0.4444444444444444,\"#bd3786\"],[0.5555555555555556,\"#d8576b\"],[0.6666666666666666,\"#ed7953\"],[0.7777777777777778,\"#fb9f3a\"],[0.8888888888888888,\"#fdca26\"],[1.0,\"#f0f921\"]],\"diverging\":[[0,\"#8e0152\"],[0.1,\"#c51b7d\"],[0.2,\"#de77ae\"],[0.3,\"#f1b6da\"],[0.4,\"#fde0ef\"],[0.5,\"#f7f7f7\"],[0.6,\"#e6f5d0\"],[0.7,\"#b8e186\"],[0.8,\"#7fbc41\"],[0.9,\"#4d9221\"],[1,\"#276419\"]]},\"xaxis\":{\"gridcolor\":\"white\",\"linecolor\":\"white\",\"ticks\":\"\",\"title\":{\"standoff\":15},\"zerolinecolor\":\"white\",\"automargin\":true,\"zerolinewidth\":2},\"yaxis\":{\"gridcolor\":\"white\",\"linecolor\":\"white\",\"ticks\":\"\",\"title\":{\"standoff\":15},\"zerolinecolor\":\"white\",\"automargin\":true,\"zerolinewidth\":2},\"scene\":{\"xaxis\":{\"backgroundcolor\":\"#E5ECF6\",\"gridcolor\":\"white\",\"linecolor\":\"white\",\"showbackground\":true,\"ticks\":\"\",\"zerolinecolor\":\"white\",\"gridwidth\":2},\"yaxis\":{\"backgroundcolor\":\"#E5ECF6\",\"gridcolor\":\"white\",\"linecolor\":\"white\",\"showbackground\":true,\"ticks\":\"\",\"zerolinecolor\":\"white\",\"gridwidth\":2},\"zaxis\":{\"backgroundcolor\":\"#E5ECF6\",\"gridcolor\":\"white\",\"linecolor\":\"white\",\"showbackground\":true,\"ticks\":\"\",\"zerolinecolor\":\"white\",\"gridwidth\":2}},\"shapedefaults\":{\"line\":{\"color\":\"#2a3f5f\"}},\"annotationdefaults\":{\"arrowcolor\":\"#2a3f5f\",\"arrowhead\":0,\"arrowwidth\":1},\"geo\":{\"bgcolor\":\"white\",\"landcolor\":\"#E5ECF6\",\"subunitcolor\":\"white\",\"showland\":true,\"showlakes\":true,\"lakecolor\":\"white\"},\"title\":{\"x\":0.05},\"mapbox\":{\"style\":\"light\"}}},\"xaxis\":{\"anchor\":\"y\",\"domain\":[0.0,1.0],\"title\":{\"text\":\"tsne-2d-one\"}},\"yaxis\":{\"anchor\":\"x\",\"domain\":[0.0,1.0],\"title\":{\"text\":\"tsne-2d-two\"}},\"legend\":{\"title\":{\"text\":\"currentStageDescription\"},\"tracegroupgap\":0},\"title\":{\"text\":\"t-SNE applied to BERT embeddings of Bill titles\"}},                        {\"responsive\": true}                    ).then(function(){\n",
              "                            \n",
              "var gd = document.getElementById('770ff371-021a-4b96-8d49-9dc19ed4badf');\n",
              "var x = new MutationObserver(function (mutations, observer) {{\n",
              "        var display = window.getComputedStyle(gd).display;\n",
              "        if (!display || display === 'none') {{\n",
              "            console.log([gd, 'removed!']);\n",
              "            Plotly.purge(gd);\n",
              "            observer.disconnect();\n",
              "        }}\n",
              "}});\n",
              "\n",
              "// Listen for the removal of the full notebook cells\n",
              "var notebookContainer = gd.closest('#notebook-container');\n",
              "if (notebookContainer) {{\n",
              "    x.observe(notebookContainer, {childList: true});\n",
              "}}\n",
              "\n",
              "// Listen for the clearing of the current output cell\n",
              "var outputEl = gd.closest('.output');\n",
              "if (outputEl) {{\n",
              "    x.observe(outputEl, {childList: true});\n",
              "}}\n",
              "\n",
              "                        })                };                            </script>        </div>\n",
              "</body>\n",
              "</html>"
            ]
          },
          "metadata": {}
        }
      ]
    },
    {
      "cell_type": "code",
      "source": [
        "from sklearn.cluster import KMeans\n",
        "\n",
        "kmeans = KMeans(n_clusters=5, random_state=0).fit(df[\"embedding\"].tolist())\n",
        "\n",
        "df[\"cluster\"] = kmeans.labels_\n",
        "\n",
        "X = np.array(df[\"embedding\"].tolist()).squeeze()\n",
        "\n",
        "# show cluster\n",
        "fig = px.scatter(\n",
        "    df,\n",
        "    x=X[:, 0],\n",
        "    y=X[:, 1],\n",
        "    color=\"cluster\",\n",
        "    hover_name=\"shortTitle\",\n",
        ")\n",
        "fig.show()"
      ],
      "metadata": {
        "colab": {
          "base_uri": "https://localhost:8080/",
          "height": 615
        },
        "id": "6V9uYnt4G4dY",
        "outputId": "e0e4516c-ad49-4d67-e21a-5176383dc938"
      },
      "execution_count": null,
      "outputs": [
        {
          "output_type": "stream",
          "name": "stderr",
          "text": [
            "/usr/local/lib/python3.10/dist-packages/sklearn/cluster/_kmeans.py:870: FutureWarning:\n",
            "\n",
            "The default value of `n_init` will change from 10 to 'auto' in 1.4. Set the value of `n_init` explicitly to suppress the warning\n",
            "\n"
          ]
        },
        {
          "output_type": "display_data",
          "data": {
            "text/html": [
              "<html>\n",
              "<head><meta charset=\"utf-8\" /></head>\n",
              "<body>\n",
              "    <div>            <script src=\"https://cdnjs.cloudflare.com/ajax/libs/mathjax/2.7.5/MathJax.js?config=TeX-AMS-MML_SVG\"></script><script type=\"text/javascript\">if (window.MathJax && window.MathJax.Hub && window.MathJax.Hub.Config) {window.MathJax.Hub.Config({SVG: {font: \"STIX-Web\"}});}</script>                <script type=\"text/javascript\">window.PlotlyConfig = {MathJaxConfig: 'local'};</script>\n",
              "        <script src=\"https://cdn.plot.ly/plotly-2.18.2.min.js\"></script>                <div id=\"352ecc4c-a4a9-4b03-8bea-fd476e5d15c4\" class=\"plotly-graph-div\" style=\"height:525px; width:100%;\"></div>            <script type=\"text/javascript\">                                    window.PLOTLYENV=window.PLOTLYENV || {};                                    if (document.getElementById(\"352ecc4c-a4a9-4b03-8bea-fd476e5d15c4\")) {                    Plotly.newPlot(                        \"352ecc4c-a4a9-4b03-8bea-fd476e5d15c4\",                        [{\"hovertemplate\":\"<b>%{hovertext}</b><br><br>x=%{x}<br>y=%{y}<br>cluster=%{marker.color}<extra></extra>\",\"hovertext\":[\"Abolition of Business Rates Bill\",\"Abortion Bill\",\"Abortion Bill [HL]\",\"Abortion (Cleft Lip, Cleft Palate and Clubfoot) Bill\",\"Abortion (Disability Equality) Bill [HL]\",\"Abortion (Foetus Protection) Bill [HL]\",\"Abortion (Sex-Selection) Bill\",\"Abortion Act 1967 (Amendment) Bill [HL]\",\"Abortion Statistics Bill\",\"Abuse of Public-facing Workers (Offences) Bill\",\"Academies Act 2010\",\"Access to Banking Services Bill\",\"Access To Contraceptive Services Bill\",\"Access to Elected Office Fund (Report) Bill\",\"Access to Fertility Services Bill\",\"Access To Inland Waterways Bill\",\"Access to Medical Treatments (Innovation) Act 2016\",\"Access to Mental Health Services Bill\",\"Access to Palliative Care Bill [HL]\",\"Access to Palliative Care and Treatment of Children Bill [HL]\",\"Access to Pension Protection Fund Benefits Bill\",\"Access to Radiotherapy Bill\",\"Access to Welfare (Terminal Illness Definition) Bill\",\"Accessible Sports Grounds Bill [HL]\",\"Acquired Brain Injury Bill\",\"Act of Union Bill [HL]\",\"Activity Centres (Young Persons' Safety) (Amendment) Bill\",\"Additional Charges for Utility Bills Not Paid by Direct Debit (Limits) Bill\",\"Adoption (Leave, Pay and Allowance Arrangements) Bill\",\"Adults with Autism Bill\",\"Advanced Research and Invention Agency Act 2022\",\"Adventure and Gap Year Activity Companies (Accreditation and Inspection) Bill\",\"Advertising of Prostitution (Prohibition) Bill [HL]\",\"Affordable Home Ownership Bill\",\"Affordable Homes Bill\",\"Affordable Housing (Conversion of Commercial Property) Bill\",\"Affordable Housing Contributions (Ten Unit Threshold) Bill\",\"Age Assurance (Minimum Standards) Bill [HL]\",\"Age of Criminal Responsibility Bill [HL]\",\"Age-Related Macular Degeneration Bill\",\"Agricultural Accidents (Records) Bill\",\"Agriculture Bill\",\"Agriculture Act 2020\",\"Air Pollution (Local Authority Audits) Bill\",\"Air Quality Bill\",\"Air Quality (Diesel Emissions in Urban Centres) Bill\",\"Air Traffic Management and Unmanned Aircraft Bill [HL]\",\"Air Traffic Management and Unmanned Aircraft Act 2021\",\"Air Travel Organisers\\u2019 Licensing Act 2017\",\"Airport Expansion (Parliamentary Approval) Bill\",\"Airport Security (People with Disabilities) Bill\",\"Airports (Amendment) Bill [HL]\",\"Airports Act 1986 (Amendment) Bill [HL]\",\"Alan Turing (Statutory Pardon) Bill [HL]\",\"Alcohol (Harm Reduction) Bill\",\"Alcohol (Minimum Pricing) (England) Bill\",\"Alcohol Labelling Bill [HL]\",\"Alcohol Labelling (Pregnancy): Bill\",\"Alcohol Marketing Bill\",\"Alcohol Sales (Regulation of Prices and Promotion) Bill\",\"Allhallows Staining Church Act\",\"Allotments (Planning) Bill\",\"Ambulance Response Times (Local Reporting) Bill\",\"Ambulance Waiting Times (Local Reporting) Bill\",\"Amenity Land (Adoption by Local Authorities) Bill\",\"Ancient Woodland Inventory (England) Bill\",\"Animal Cruelty (Sentencing) Bill\",\"Animal Fighting (Sentencing) Bill\",\"Animal Welfare (Electronic Collars) Bill\",\"Animal Welfare (Kept Animals) Bill\",\"Animal Welfare (Sentencing) Bill\",\"Animal Welfare (Sentencing) Act 2021\",\"Animal Welfare (Sentience) Act 2022\",\"Animal Welfare (Service Animals) Act 2019\",\"Animals (Low-Welfare Activities Abroad) Bill\",\"Animals (Penalty Notices) Act 2022\",\"Animals (Recognition of Sentience) Bill\",\"Animals Act (Amendment) Bill\",\"Animals Act 1971 (Amendment) Bill\",\"Anonymity (Arrested Persons) Bill\",\"Anonymity (Arrested Persons) Bill [HL]\",\"Anonymity of Suspects Bill\",\"Antarctic Act 2013\",\"Anti-Loitering Devices (Regulation) Bill\",\"Anti-Slavery Day Act 2010\",\"Anti-social Behaviour, Crime and Policing Act\",\"Anxiety (Environmental Concerns) Bill\",\"Anxiety in Schools (Environmental Concerns) Bill\",\"Apologies Bill\",\"Apprehension of Burglars Bill\",\"Apprenticeships (Child Benefit and Tax Credit Entitlement) (Research) Bill\",\"Apprenticeships and Skills (Public Procurement Contracts) Bill\",\"Apprenticeships, Skills, Children and Learning\",\"Appropriation Act 2011\",\"Appropriation Act 2010\",\"Appropriation (No. 2) Act 2010\",\"Appropriation (No. 3) Act 2010\",\"Approved Premises (Substance Testing) Act 2022\",\"Arbitration and Mediation (Equality) Services Bill [HL]\",\"Arbitration and Mediation Services (Equality) Bill [HL]\",\"Armed Forces Act 2011\",\"Armed Forces\",\"Armed Forces Act 2021\",\"Armed Forces (Derogation from European Convention on Human Rights) Bill\",\"Armed Forces (Federation) Bill\",\"Armed Forces (Flexible Working) Act 2018\",\"Armed Forces (Germany) Bill\",\"Armed Forces (Leave) Bill\",\"Armed Forces (Posthumous Pardons) Bill [HL]\",\"Armed Forces (Prevention of Discrimination) Bill\",\"Armed Forces (Prevention of Discrimination) (No. 2) Bill\",\"Armed Forces (Service Complaints and Financial Assistance) Act 2015\",\"Armed Forces (Statute of Limitations) Bill\",\"Armed Forces (Volunteer Reserve) Bill\",\"Armed Forces Charter Bill\",\"Armed Forces Covenant (Duty of Public Authorities) Bill\",\"Armed Forces Covenant (Implementation) (United Kingdom) Bill\",\"Armed Forces Deployment (Royal Prerogative) Bill [HL]\",\"Armed Forces Representative Body Bill\",\"Armenian Genocide (Recognition) Bill\",\"Armenian Genocide Remembrance Day Bill\",\"Arms (Exports and Remote Warfare) Bill\",\"Arms Export Controls (Countries of Concern) Bill\",\"Artificial Intelligence (Regulation and Workers' Rights) Bill\",\"Assaults on Emergency Workers (Offences) Act 2018\",\"Assaults on Retail Workers (Offences) Bill\",\"Assessment of Government Policies (Impact on Families) Bill\",\"Asset Freezing (Compensation) Bill [HL]\",\"Assets of Community Value Bill\",\"Assisted Dying Bill [HL]\",\"Assisted Dying (No. 2) Bill\",\"Asylum (Time Limit) Bill\",\"Asylum (Unaccompanied Children Displaced by Conflict) Bill\",\"Asylum Seekers (Accommodation Eviction Procedures) Bill\",\"Asylum Seekers (Permission to Work) Bill\",\"Asylum Seekers (Permission to Work) (No. 2) Bill\",\"Asylum Seekers (Return to Nearest Safe Country) Bill\",\"Asylum Seekers (Return to Safe Countries) Bill\",\"Asylum Support (Prescribed Period) Bill [HL]\",\"Autism\",\"Autism (Quality Standards) Bill\",\"Automated and Electric Vehicles Act 2018\",\"Automated External Defibrillators (Public Access) Bill\",\"Automated Facial Recognition Technology (Moratorium and Review) Bill [HL]\",\"Automatic Electoral Registration Bill [HL]\",\"Automatic Electoral Registration Bill\",\"Automatic Electoral Registration (No. 2) Bill\",\"Automatic Electoral Registration (School Students) Bill [HL]\",\"Automatic Travel Compensation Bill\",\"Autumn Bank Holiday Bill\",\"Aviation Banning Orders (Disruptive Passengers) Bill\",\"Awards for Valour (Protection) Bill\",\"Awards for Valour (Protection) Bill [HL]\",\"Bail (Amendment) Bill\",\"Bailiffs (Licensing) Bill [HL]\",\"Bailiffs (Repeals and Amendment) Bill\",\"Ballot Secrecy Act 2023\",\"Bank Holiday (Contribution of Polish Citizens) Bill\",\"Bank Holidays (Wales) Bill [HL]\",\"Bank of England (Amendment) Bill [HL]\",\"Bank of England (Appointment of Governor) Bill\",\"Bank of England and Financial Services Act 2016\",\"Bank of Ireland (UK) plc\",\"Bankers' Pensions (Limits) Bill\",\"Banking Act 2009\",\"Banking (Cash Machine Charges and Financial Inclusion) Bill\",\"Banking (Consumer and Small Business Protection) Bill\",\"Banking (Disclosure, Responsibility and Education) Bill\",\"Banking (No. 2) Bill [HL]\",\"Banking (Special Provisions) Act 2008\",\"Banking and Financial Services (Community Investment) Bill\",\"Banking and Post Office Services (Rural Areas and Small Communities) Bill\",\"Banking Services (Post Offices) Bill\",\"Banknote Diversity Bill\",\"Barnett Formula (Replacement) Bill\",\"Basement Excavation (Restriction of Permitted Development) Bill\",\"Bat Habitats Regulation Bill\",\"Bat Habitats Regulation Bill [HL]\",\"Bat Habitats Regulation (No. 2) Bill\",\"Bat Habitats Regulation (No.2) Bill\",\"Bathing Waters Bill\",\"BBC (Audit Arrangements and Publication of Invoices) Bill\",\"BBC (Independence) Bill [HL]\",\"BBC (Transparency) Bill\",\"BBC (Trustee Election and Licence Fee) Bill [HL]\",\"BBC Licence Fee Bill [HL]\",\"BBC Licence Fee (Abolition) Bill\",\"BBC Licence Fee (Civil Debt) Bill\",\"BBC Licence Fee (Civil Penalty) Bill\",\"BBC Licence Fee Non-Payment (Decriminalisation for Over-75s) Bill\",\"BBC Licence Fee Payers (Voting Rights) Bill\",\"BBC Privatisation Bill\",\"BBC Royal Charter Bill [HL]\",\"BBC Trust Chairman (Election) Bill [HL]\",\"Benefit Cap (Report on Abolition) Bill\"],\"legendgroup\":\"\",\"marker\":{\"color\":[0,0,2,0,2,2,0,2,0,0,1,4,4,0,4,4,1,4,2,2,4,0,4,2,0,2,1,0,4,0,1,0,2,4,4,4,4,2,2,0,0,0,1,0,0,0,2,1,1,0,0,2,2,2,0,0,2,0,0,0,1,0,0,0,4,0,1,1,1,1,1,1,1,1,1,1,1,1,1,0,2,0,1,0,1,1,0,1,0,0,0,0,1,1,1,1,1,1,2,2,3,3,3,3,3,3,3,3,2,3,3,3,3,3,3,3,3,3,3,0,0,3,3,0,1,0,4,2,4,2,0,4,4,4,4,4,4,4,2,1,0,1,0,2,2,0,0,2,0,4,0,0,2,0,2,0,1,4,4,2,4,4,4,4,4,4,4,4,4,4,4,4,4,4,0,0,1,1,1,1,4,0,2,0,2,2,0,0,0,0,0,0,2,2,0],\"coloraxis\":\"coloraxis\",\"symbol\":\"circle\"},\"mode\":\"markers\",\"name\":\"\",\"orientation\":\"v\",\"showlegend\":false,\"x\":[-0.028516503050923347,-0.020036380738019943,-0.06602349132299423,-0.0715637356042862,-0.0810101330280304,-0.08442673087120056,-0.030386263504624367,-0.06137193366885185,0.03616155683994293,-0.05104156211018562,-0.026028882712125778,-0.011339006945490837,-0.09426229447126389,-0.0058652120642364025,-0.0823260173201561,0.03199209272861481,-0.014478550292551517,-0.00821609701961279,-0.01892908103764057,-0.03805394098162651,-0.03360380604863167,0.02750222198665142,-0.03639917075634003,-0.02219475619494915,-0.0839235931634903,-0.08657196164131165,-0.024302862584590912,-0.07468041777610779,-0.057582467794418335,-0.07153567671775818,-0.13109087944030762,-0.02103683538734913,-0.052418507635593414,0.03240034356713295,0.0410318486392498,0.07465609163045883,-0.010528958402574062,-0.0461127795279026,-0.04831978678703308,-0.028733521699905396,-0.051745254546403885,-0.043099310249090195,-0.028713393956422806,-0.004294965416193008,-0.014984113164246082,0.047126106917858124,-0.003828224493190646,0.04691946133971214,0.043847277760505676,0.07057227194309235,-0.009963099844753742,0.04484328627586365,0.040644899010658264,-0.0443025603890419,0.009083193726837635,0.023165442049503326,-0.02009572461247444,-0.024572666734457016,0.007684905547648668,-0.02950993925333023,-0.010382361710071564,0.006765770725905895,-0.04017969220876694,-0.04109484329819679,0.03199376165866852,-0.010608912445604801,-0.01580239273607731,-0.025875026360154152,-0.09538222849369049,-0.0710047110915184,-0.051949553191661835,-0.043303463608026505,-0.04170158505439758,-0.06534343957901001,0.06592348217964172,0.021988889202475548,-0.011177467182278633,-0.012576407752931118,-0.03954882174730301,-0.13743500411510468,-0.1420690417289734,-0.12203256040811539,-0.051245883107185364,-0.03351990506052971,-0.029442640021443367,-0.030586274340748787,0.057835593819618225,0.03988110274076462,-0.026919687166810036,-0.054981473833322525,-0.1120239868760109,-0.07236678153276443,-0.009764377027750015,-0.01419423520565033,-0.005620812997221947,-0.010280336253345013,-0.01882949285209179,0.0327598936855793,-0.05897734686732292,-0.060314029455184937,-0.03897891938686371,0.004193419590592384,-0.03140860050916672,-0.043227098882198334,0.006533525884151459,-0.06402549147605896,-0.03919554501771927,0.02792637050151825,-0.07031992822885513,-0.056842703372240067,-0.052287403494119644,-0.07737035304307938,-0.07551109790802002,-0.032514993101358414,0.027612652629613876,-0.042285043746232986,-0.01767399162054062,-0.007530928123742342,-0.07971607148647308,-0.07320115715265274,-0.043255940079689026,-0.007052828092128038,-0.0050078281201422215,-0.08765467256307602,-0.023488694801926613,-0.04925505444407463,-0.11867085844278336,-0.04657866060733795,0.0032691643573343754,-0.018648602068424225,0.0238688625395298,-0.0107011329382658,-0.051792483776807785,0.04758341982960701,0.013629184104502201,0.028310924768447876,0.062046799808740616,0.029895557090640068,-0.0741342231631279,-0.04212016984820366,-0.05163821205496788,-0.04413534328341484,-0.09077963978052139,-0.09655813872814178,-0.0762643814086914,-0.0694747120141983,-0.060983821749687195,-0.06943032890558243,-0.07570067793130875,0.025700613856315613,0.0015087372157722712,-0.10700394213199615,-0.1249295026063919,-0.04463479667901993,-0.04789988696575165,-0.02288023941218853,-0.04458073154091835,-0.020572174340486526,-0.029636599123477936,0.0006205738172866404,-0.00514143006876111,0.03569545969367027,0.026691781356930733,0.011922869831323624,-0.003148881020024419,-0.04478222876787186,0.01828846149146557,-0.02892465330660343,-0.010280117392539978,0.027849441394209862,0.046405691653490067,0.06895964592695236,0.01247159019112587,-0.028675761073827744,-0.07247989624738693,-0.003831977490335703,0.0035065882839262486,-0.020437797531485558,0.004908084403723478,0.0059529016725718975,-0.015399283729493618,-0.037910036742687225,-0.029824910685420036,0.0042429049499332905,0.04267032444477081,0.020575251430273056,-0.008655132725834846,0.007674473337829113,0.033885713666677475,0.017093919217586517,0.005805144552141428,0.013750088401138783,0.03704940155148506,-0.001586836762726307,-0.051513928920030594],\"xaxis\":\"x\",\"y\":[0.033403180539608,0.12869228422641754,0.13086140155792236,0.036869581788778305,0.1030241996049881,0.12974269688129425,0.13902820646762848,0.08028199523687363,0.05712695047259331,0.057629890739917755,-0.024267718195915222,0.024845218285918236,0.07833578437566757,0.021976986899971962,0.048943083733320236,0.010859835892915726,0.044053349643945694,0.04104165732860565,0.05490688979625702,0.055149830877780914,0.10327824205160141,0.10630578547716141,0.07538896799087524,0.05336229130625725,0.04093803092837334,0.04424377530813217,0.021250663325190544,0.022391879931092262,0.02390945702791214,0.06211303174495697,-0.038730189204216,0.048331327736377716,0.047024019062519073,0.020281897857785225,0.05559835582971573,0.03199613839387894,-0.011171935126185417,0.12793433666229248,0.11500158905982971,0.032090891152620316,0.027217747643589973,0.043221354484558105,-0.0019012661650776863,0.07474761456251144,0.023871487006545067,-0.029417185112833977,0.018328240141272545,-0.05090218037366867,-0.04790521040558815,-0.044369038194417953,0.06471218913793564,0.07369647175073624,0.09844460338354111,0.053210362792015076,0.09396319091320038,0.015890998765826225,0.07332275807857513,0.06939100474119186,0.026697739958763123,0.025907261297106743,0.09392209351062775,0.05766650289297104,0.047905635088682175,0.04253619536757469,0.03328302130103111,0.06367466598749161,0.09475060552358627,0.0937703400850296,0.0530690960586071,0.08160664141178131,0.08159923553466797,0.06980091333389282,0.009823224507272243,-0.028365304693579674,0.02152351103723049,0.05453471839427948,0.039597831666469574,0.03679060935974121,0.06288459897041321,0.0994986966252327,0.1089043915271759,0.07021237909793854,0.016013026237487793,0.060188569128513336,0.08957155048847198,-0.010675624944269657,0.1023511290550232,0.13706450164318085,0.05803024023771286,0.10920281708240509,0.018655188381671906,0.00911762099713087,-0.013947325758635998,0.06425140798091888,0.054625313729047775,0.04153179004788399,0.034633390605449677,-0.018988804891705513,0.06934928894042969,0.07466929405927658,-0.00807645171880722,0.019114715978503227,0.010297255590558052,0.07424099743366241,0.025526560842990875,0.020339369773864746,0.07687292248010635,0.03470686823129654,0.07082098722457886,0.0788876861333847,0.0846901461482048,0.05303557217121124,0.02950291521847248,0.04015394300222397,0.015232030302286148,0.025603875517845154,0.030963940545916557,0.06707046926021576,0.06044837832450867,0.09033126384019852,0.11031504720449448,0.03325814753770828,0.04545506462454796,0.002607646631076932,0.05604507774114609,0.06681354343891144,0.038197338581085205,0.05894935876131058,0.05628994479775429,0.0915413424372673,0.07668992877006531,0.07699209451675415,0.035214923322200775,0.08164617419242859,0.07642471790313721,0.08143772929906845,0.05922279506921768,0.055122800171375275,0.1066363975405693,-0.004939884413033724,-0.011360171250998974,0.07700032740831375,0.04508315399289131,0.06424229592084885,0.0054781134240329266,-0.02023652009665966,-0.016062961891293526,0.05107809603214264,0.044199857860803604,0.04007905349135399,0.021827027201652527,0.13966545462608337,0.1535569131374359,0.09675820916891098,0.09318844228982925,0.06525032222270966,0.02435549721121788,0.09761550277471542,0.09362981468439102,0.03809484839439392,-0.011731625534594059,-0.012029187753796577,-0.0364929661154747,0.02090025134384632,-0.02967667393386364,0.014481757767498493,0.08103366941213608,0.0966765433549881,0.030865268781781197,0.007724568713456392,-0.008496398106217384,0.011099080555140972,-0.007690828759223223,0.02439541555941105,0.013813800178468227,0.03216637670993805,0.10134238004684448,0.11321114748716354,0.09052645415067673,0.09424534440040588,0.09458956122398376,0.07152342796325684,0.03661352023482323,0.0011431662132963538,0.00887636560946703,0.00842341873794794,0.01389048807322979,-0.004473438486456871,0.019207395613193512,0.011407410725951195,-0.005282772239297628,-0.009756543673574924,0.02143622189760208,0.01561584323644638,0.09273146092891693],\"yaxis\":\"y\",\"type\":\"scatter\"}],                        {\"template\":{\"data\":{\"histogram2dcontour\":[{\"type\":\"histogram2dcontour\",\"colorbar\":{\"outlinewidth\":0,\"ticks\":\"\"},\"colorscale\":[[0.0,\"#0d0887\"],[0.1111111111111111,\"#46039f\"],[0.2222222222222222,\"#7201a8\"],[0.3333333333333333,\"#9c179e\"],[0.4444444444444444,\"#bd3786\"],[0.5555555555555556,\"#d8576b\"],[0.6666666666666666,\"#ed7953\"],[0.7777777777777778,\"#fb9f3a\"],[0.8888888888888888,\"#fdca26\"],[1.0,\"#f0f921\"]]}],\"choropleth\":[{\"type\":\"choropleth\",\"colorbar\":{\"outlinewidth\":0,\"ticks\":\"\"}}],\"histogram2d\":[{\"type\":\"histogram2d\",\"colorbar\":{\"outlinewidth\":0,\"ticks\":\"\"},\"colorscale\":[[0.0,\"#0d0887\"],[0.1111111111111111,\"#46039f\"],[0.2222222222222222,\"#7201a8\"],[0.3333333333333333,\"#9c179e\"],[0.4444444444444444,\"#bd3786\"],[0.5555555555555556,\"#d8576b\"],[0.6666666666666666,\"#ed7953\"],[0.7777777777777778,\"#fb9f3a\"],[0.8888888888888888,\"#fdca26\"],[1.0,\"#f0f921\"]]}],\"heatmap\":[{\"type\":\"heatmap\",\"colorbar\":{\"outlinewidth\":0,\"ticks\":\"\"},\"colorscale\":[[0.0,\"#0d0887\"],[0.1111111111111111,\"#46039f\"],[0.2222222222222222,\"#7201a8\"],[0.3333333333333333,\"#9c179e\"],[0.4444444444444444,\"#bd3786\"],[0.5555555555555556,\"#d8576b\"],[0.6666666666666666,\"#ed7953\"],[0.7777777777777778,\"#fb9f3a\"],[0.8888888888888888,\"#fdca26\"],[1.0,\"#f0f921\"]]}],\"heatmapgl\":[{\"type\":\"heatmapgl\",\"colorbar\":{\"outlinewidth\":0,\"ticks\":\"\"},\"colorscale\":[[0.0,\"#0d0887\"],[0.1111111111111111,\"#46039f\"],[0.2222222222222222,\"#7201a8\"],[0.3333333333333333,\"#9c179e\"],[0.4444444444444444,\"#bd3786\"],[0.5555555555555556,\"#d8576b\"],[0.6666666666666666,\"#ed7953\"],[0.7777777777777778,\"#fb9f3a\"],[0.8888888888888888,\"#fdca26\"],[1.0,\"#f0f921\"]]}],\"contourcarpet\":[{\"type\":\"contourcarpet\",\"colorbar\":{\"outlinewidth\":0,\"ticks\":\"\"}}],\"contour\":[{\"type\":\"contour\",\"colorbar\":{\"outlinewidth\":0,\"ticks\":\"\"},\"colorscale\":[[0.0,\"#0d0887\"],[0.1111111111111111,\"#46039f\"],[0.2222222222222222,\"#7201a8\"],[0.3333333333333333,\"#9c179e\"],[0.4444444444444444,\"#bd3786\"],[0.5555555555555556,\"#d8576b\"],[0.6666666666666666,\"#ed7953\"],[0.7777777777777778,\"#fb9f3a\"],[0.8888888888888888,\"#fdca26\"],[1.0,\"#f0f921\"]]}],\"surface\":[{\"type\":\"surface\",\"colorbar\":{\"outlinewidth\":0,\"ticks\":\"\"},\"colorscale\":[[0.0,\"#0d0887\"],[0.1111111111111111,\"#46039f\"],[0.2222222222222222,\"#7201a8\"],[0.3333333333333333,\"#9c179e\"],[0.4444444444444444,\"#bd3786\"],[0.5555555555555556,\"#d8576b\"],[0.6666666666666666,\"#ed7953\"],[0.7777777777777778,\"#fb9f3a\"],[0.8888888888888888,\"#fdca26\"],[1.0,\"#f0f921\"]]}],\"mesh3d\":[{\"type\":\"mesh3d\",\"colorbar\":{\"outlinewidth\":0,\"ticks\":\"\"}}],\"scatter\":[{\"fillpattern\":{\"fillmode\":\"overlay\",\"size\":10,\"solidity\":0.2},\"type\":\"scatter\"}],\"parcoords\":[{\"type\":\"parcoords\",\"line\":{\"colorbar\":{\"outlinewidth\":0,\"ticks\":\"\"}}}],\"scatterpolargl\":[{\"type\":\"scatterpolargl\",\"marker\":{\"colorbar\":{\"outlinewidth\":0,\"ticks\":\"\"}}}],\"bar\":[{\"error_x\":{\"color\":\"#2a3f5f\"},\"error_y\":{\"color\":\"#2a3f5f\"},\"marker\":{\"line\":{\"color\":\"#E5ECF6\",\"width\":0.5},\"pattern\":{\"fillmode\":\"overlay\",\"size\":10,\"solidity\":0.2}},\"type\":\"bar\"}],\"scattergeo\":[{\"type\":\"scattergeo\",\"marker\":{\"colorbar\":{\"outlinewidth\":0,\"ticks\":\"\"}}}],\"scatterpolar\":[{\"type\":\"scatterpolar\",\"marker\":{\"colorbar\":{\"outlinewidth\":0,\"ticks\":\"\"}}}],\"histogram\":[{\"marker\":{\"pattern\":{\"fillmode\":\"overlay\",\"size\":10,\"solidity\":0.2}},\"type\":\"histogram\"}],\"scattergl\":[{\"type\":\"scattergl\",\"marker\":{\"colorbar\":{\"outlinewidth\":0,\"ticks\":\"\"}}}],\"scatter3d\":[{\"type\":\"scatter3d\",\"line\":{\"colorbar\":{\"outlinewidth\":0,\"ticks\":\"\"}},\"marker\":{\"colorbar\":{\"outlinewidth\":0,\"ticks\":\"\"}}}],\"scattermapbox\":[{\"type\":\"scattermapbox\",\"marker\":{\"colorbar\":{\"outlinewidth\":0,\"ticks\":\"\"}}}],\"scatterternary\":[{\"type\":\"scatterternary\",\"marker\":{\"colorbar\":{\"outlinewidth\":0,\"ticks\":\"\"}}}],\"scattercarpet\":[{\"type\":\"scattercarpet\",\"marker\":{\"colorbar\":{\"outlinewidth\":0,\"ticks\":\"\"}}}],\"carpet\":[{\"aaxis\":{\"endlinecolor\":\"#2a3f5f\",\"gridcolor\":\"white\",\"linecolor\":\"white\",\"minorgridcolor\":\"white\",\"startlinecolor\":\"#2a3f5f\"},\"baxis\":{\"endlinecolor\":\"#2a3f5f\",\"gridcolor\":\"white\",\"linecolor\":\"white\",\"minorgridcolor\":\"white\",\"startlinecolor\":\"#2a3f5f\"},\"type\":\"carpet\"}],\"table\":[{\"cells\":{\"fill\":{\"color\":\"#EBF0F8\"},\"line\":{\"color\":\"white\"}},\"header\":{\"fill\":{\"color\":\"#C8D4E3\"},\"line\":{\"color\":\"white\"}},\"type\":\"table\"}],\"barpolar\":[{\"marker\":{\"line\":{\"color\":\"#E5ECF6\",\"width\":0.5},\"pattern\":{\"fillmode\":\"overlay\",\"size\":10,\"solidity\":0.2}},\"type\":\"barpolar\"}],\"pie\":[{\"automargin\":true,\"type\":\"pie\"}]},\"layout\":{\"autotypenumbers\":\"strict\",\"colorway\":[\"#636efa\",\"#EF553B\",\"#00cc96\",\"#ab63fa\",\"#FFA15A\",\"#19d3f3\",\"#FF6692\",\"#B6E880\",\"#FF97FF\",\"#FECB52\"],\"font\":{\"color\":\"#2a3f5f\"},\"hovermode\":\"closest\",\"hoverlabel\":{\"align\":\"left\"},\"paper_bgcolor\":\"white\",\"plot_bgcolor\":\"#E5ECF6\",\"polar\":{\"bgcolor\":\"#E5ECF6\",\"angularaxis\":{\"gridcolor\":\"white\",\"linecolor\":\"white\",\"ticks\":\"\"},\"radialaxis\":{\"gridcolor\":\"white\",\"linecolor\":\"white\",\"ticks\":\"\"}},\"ternary\":{\"bgcolor\":\"#E5ECF6\",\"aaxis\":{\"gridcolor\":\"white\",\"linecolor\":\"white\",\"ticks\":\"\"},\"baxis\":{\"gridcolor\":\"white\",\"linecolor\":\"white\",\"ticks\":\"\"},\"caxis\":{\"gridcolor\":\"white\",\"linecolor\":\"white\",\"ticks\":\"\"}},\"coloraxis\":{\"colorbar\":{\"outlinewidth\":0,\"ticks\":\"\"}},\"colorscale\":{\"sequential\":[[0.0,\"#0d0887\"],[0.1111111111111111,\"#46039f\"],[0.2222222222222222,\"#7201a8\"],[0.3333333333333333,\"#9c179e\"],[0.4444444444444444,\"#bd3786\"],[0.5555555555555556,\"#d8576b\"],[0.6666666666666666,\"#ed7953\"],[0.7777777777777778,\"#fb9f3a\"],[0.8888888888888888,\"#fdca26\"],[1.0,\"#f0f921\"]],\"sequentialminus\":[[0.0,\"#0d0887\"],[0.1111111111111111,\"#46039f\"],[0.2222222222222222,\"#7201a8\"],[0.3333333333333333,\"#9c179e\"],[0.4444444444444444,\"#bd3786\"],[0.5555555555555556,\"#d8576b\"],[0.6666666666666666,\"#ed7953\"],[0.7777777777777778,\"#fb9f3a\"],[0.8888888888888888,\"#fdca26\"],[1.0,\"#f0f921\"]],\"diverging\":[[0,\"#8e0152\"],[0.1,\"#c51b7d\"],[0.2,\"#de77ae\"],[0.3,\"#f1b6da\"],[0.4,\"#fde0ef\"],[0.5,\"#f7f7f7\"],[0.6,\"#e6f5d0\"],[0.7,\"#b8e186\"],[0.8,\"#7fbc41\"],[0.9,\"#4d9221\"],[1,\"#276419\"]]},\"xaxis\":{\"gridcolor\":\"white\",\"linecolor\":\"white\",\"ticks\":\"\",\"title\":{\"standoff\":15},\"zerolinecolor\":\"white\",\"automargin\":true,\"zerolinewidth\":2},\"yaxis\":{\"gridcolor\":\"white\",\"linecolor\":\"white\",\"ticks\":\"\",\"title\":{\"standoff\":15},\"zerolinecolor\":\"white\",\"automargin\":true,\"zerolinewidth\":2},\"scene\":{\"xaxis\":{\"backgroundcolor\":\"#E5ECF6\",\"gridcolor\":\"white\",\"linecolor\":\"white\",\"showbackground\":true,\"ticks\":\"\",\"zerolinecolor\":\"white\",\"gridwidth\":2},\"yaxis\":{\"backgroundcolor\":\"#E5ECF6\",\"gridcolor\":\"white\",\"linecolor\":\"white\",\"showbackground\":true,\"ticks\":\"\",\"zerolinecolor\":\"white\",\"gridwidth\":2},\"zaxis\":{\"backgroundcolor\":\"#E5ECF6\",\"gridcolor\":\"white\",\"linecolor\":\"white\",\"showbackground\":true,\"ticks\":\"\",\"zerolinecolor\":\"white\",\"gridwidth\":2}},\"shapedefaults\":{\"line\":{\"color\":\"#2a3f5f\"}},\"annotationdefaults\":{\"arrowcolor\":\"#2a3f5f\",\"arrowhead\":0,\"arrowwidth\":1},\"geo\":{\"bgcolor\":\"white\",\"landcolor\":\"#E5ECF6\",\"subunitcolor\":\"white\",\"showland\":true,\"showlakes\":true,\"lakecolor\":\"white\"},\"title\":{\"x\":0.05},\"mapbox\":{\"style\":\"light\"}}},\"xaxis\":{\"anchor\":\"y\",\"domain\":[0.0,1.0],\"title\":{\"text\":\"x\"}},\"yaxis\":{\"anchor\":\"x\",\"domain\":[0.0,1.0],\"title\":{\"text\":\"y\"}},\"coloraxis\":{\"colorbar\":{\"title\":{\"text\":\"cluster\"}},\"colorscale\":[[0.0,\"#0d0887\"],[0.1111111111111111,\"#46039f\"],[0.2222222222222222,\"#7201a8\"],[0.3333333333333333,\"#9c179e\"],[0.4444444444444444,\"#bd3786\"],[0.5555555555555556,\"#d8576b\"],[0.6666666666666666,\"#ed7953\"],[0.7777777777777778,\"#fb9f3a\"],[0.8888888888888888,\"#fdca26\"],[1.0,\"#f0f921\"]]},\"legend\":{\"tracegroupgap\":0},\"margin\":{\"t\":60}},                        {\"responsive\": true}                    ).then(function(){\n",
              "                            \n",
              "var gd = document.getElementById('352ecc4c-a4a9-4b03-8bea-fd476e5d15c4');\n",
              "var x = new MutationObserver(function (mutations, observer) {{\n",
              "        var display = window.getComputedStyle(gd).display;\n",
              "        if (!display || display === 'none') {{\n",
              "            console.log([gd, 'removed!']);\n",
              "            Plotly.purge(gd);\n",
              "            observer.disconnect();\n",
              "        }}\n",
              "}});\n",
              "\n",
              "// Listen for the removal of the full notebook cells\n",
              "var notebookContainer = gd.closest('#notebook-container');\n",
              "if (notebookContainer) {{\n",
              "    x.observe(notebookContainer, {childList: true});\n",
              "}}\n",
              "\n",
              "// Listen for the clearing of the current output cell\n",
              "var outputEl = gd.closest('.output');\n",
              "if (outputEl) {{\n",
              "    x.observe(outputEl, {childList: true});\n",
              "}}\n",
              "\n",
              "                        })                };                            </script>        </div>\n",
              "</body>\n",
              "</html>"
            ]
          },
          "metadata": {}
        }
      ]
    }
  ]
}